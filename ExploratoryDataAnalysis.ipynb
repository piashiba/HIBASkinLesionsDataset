{
  "nbformat": 4,
  "nbformat_minor": 0,
  "metadata": {
    "colab": {
      "provenance": [],
      "toc_visible": true
    },
    "kernelspec": {
      "name": "python3",
      "display_name": "Python 3"
    },
    "language_info": {
      "name": "python"
    }
  },
  "cells": [
    {
      "cell_type": "markdown",
      "source": [
        "#Hospital Italiano de Buenos Aires Skin Lesions Images (2019-2022) Dataset"
      ],
      "metadata": {
        "id": "tGE4WCVStTKI"
      }
    },
    {
      "cell_type": "markdown",
      "source": [
        "In this notebook, we present the exploratory data analysis (EDA) performed for the Hospital Italiano de Buenos Aires Skin Lesions Images (2019-2022) Dataset (available at https://doi.org/10.34970/587329). The results are consistent with the description presented in the corresponding section of the manuscript."
      ],
      "metadata": {
        "id": "Tik3qyx9tht0"
      }
    },
    {
      "cell_type": "markdown",
      "source": [
        "##Libraries"
      ],
      "metadata": {
        "id": "WtN4pbWntlnM"
      }
    },
    {
      "cell_type": "code",
      "source": [
        "import pandas as pd\n",
        "import numpy as np\n",
        "import matplotlib.pyplot as plt\n",
        "import seaborn as sns\n",
        "import os"
      ],
      "metadata": {
        "id": "4aQ_cvu-tnoA"
      },
      "execution_count": 1,
      "outputs": []
    },
    {
      "cell_type": "code",
      "source": [
        "!pip install isic-cli"
      ],
      "metadata": {
        "colab": {
          "base_uri": "https://localhost:8080/"
        },
        "id": "dB8vIU8bsbf0",
        "outputId": "aa8fb35f-bf06-4b08-83e8-0571a534440c"
      },
      "execution_count": 2,
      "outputs": [
        {
          "output_type": "stream",
          "name": "stdout",
          "text": [
            "Collecting isic-cli\n",
            "  Downloading isic_cli-7.2.0-py3-none-any.whl (23 kB)\n",
            "Requirement already satisfied: click>=8 in /usr/local/lib/python3.10/dist-packages (from isic-cli) (8.1.7)\n",
            "Collecting django-s3-file-field-client (from isic-cli)\n",
            "  Downloading django_s3_file_field_client-0.3.2-py3-none-any.whl (3.3 kB)\n",
            "Collecting girder-cli-oauth-client<1.0.0 (from isic-cli)\n",
            "  Downloading girder_cli_oauth_client-0.4.0-py3-none-any.whl (8.1 kB)\n",
            "Requirement already satisfied: humanize in /usr/local/lib/python3.10/dist-packages (from isic-cli) (4.7.0)\n",
            "Collecting isic-metadata>=0.1.0 (from isic-cli)\n",
            "  Downloading isic_metadata-0.1.0-py3-none-any.whl (11 kB)\n",
            "Requirement already satisfied: more-itertools in /usr/local/lib/python3.10/dist-packages (from isic-cli) (10.1.0)\n",
            "Requirement already satisfied: numpy in /usr/local/lib/python3.10/dist-packages (from isic-cli) (1.23.5)\n",
            "Requirement already satisfied: packaging in /usr/local/lib/python3.10/dist-packages (from isic-cli) (23.1)\n",
            "Requirement already satisfied: pandas in /usr/local/lib/python3.10/dist-packages (from isic-cli) (1.5.3)\n",
            "Requirement already satisfied: requests in /usr/local/lib/python3.10/dist-packages (from isic-cli) (2.31.0)\n",
            "Collecting retryable-requests (from isic-cli)\n",
            "  Downloading retryable_requests-0.1.2-py3-none-any.whl (7.5 kB)\n",
            "Requirement already satisfied: rich in /usr/local/lib/python3.10/dist-packages (from isic-cli) (13.5.2)\n",
            "Collecting sentry-sdk (from isic-cli)\n",
            "  Downloading sentry_sdk-1.30.0-py2.py3-none-any.whl (218 kB)\n",
            "\u001b[2K     \u001b[90m━━━━━━━━━━━━━━━━━━━━━━━━━━━━━━━━━━━━━━━\u001b[0m \u001b[32m218.8/218.8 kB\u001b[0m \u001b[31m9.1 MB/s\u001b[0m eta \u001b[36m0:00:00\u001b[0m\n",
            "\u001b[?25hRequirement already satisfied: tenacity in /usr/local/lib/python3.10/dist-packages (from isic-cli) (8.2.3)\n",
            "Collecting authlib (from girder-cli-oauth-client<1.0.0->isic-cli)\n",
            "  Downloading Authlib-1.2.1-py2.py3-none-any.whl (215 kB)\n",
            "\u001b[2K     \u001b[90m━━━━━━━━━━━━━━━━━━━━━━━━━━━━━━━━━━━━━━\u001b[0m \u001b[32m215.3/215.3 kB\u001b[0m \u001b[31m18.8 MB/s\u001b[0m eta \u001b[36m0:00:00\u001b[0m\n",
            "\u001b[?25hCollecting pyxdg (from girder-cli-oauth-client<1.0.0->isic-cli)\n",
            "  Downloading pyxdg-0.28-py2.py3-none-any.whl (49 kB)\n",
            "\u001b[2K     \u001b[90m━━━━━━━━━━━━━━━━━━━━━━━━━━━━━━━━━━━━━━━━\u001b[0m \u001b[32m49.5/49.5 kB\u001b[0m \u001b[31m4.6 MB/s\u001b[0m eta \u001b[36m0:00:00\u001b[0m\n",
            "\u001b[?25hRequirement already satisfied: pydantic>=2 in /usr/local/lib/python3.10/dist-packages (from isic-metadata>=0.1.0->isic-cli) (2.2.1)\n",
            "Requirement already satisfied: python-dateutil>=2.8.1 in /usr/local/lib/python3.10/dist-packages (from pandas->isic-cli) (2.8.2)\n",
            "Requirement already satisfied: pytz>=2020.1 in /usr/local/lib/python3.10/dist-packages (from pandas->isic-cli) (2023.3)\n",
            "Requirement already satisfied: charset-normalizer<4,>=2 in /usr/local/lib/python3.10/dist-packages (from requests->isic-cli) (3.2.0)\n",
            "Requirement already satisfied: idna<4,>=2.5 in /usr/local/lib/python3.10/dist-packages (from requests->isic-cli) (3.4)\n",
            "Requirement already satisfied: urllib3<3,>=1.21.1 in /usr/local/lib/python3.10/dist-packages (from requests->isic-cli) (2.0.4)\n",
            "Requirement already satisfied: certifi>=2017.4.17 in /usr/local/lib/python3.10/dist-packages (from requests->isic-cli) (2023.7.22)\n",
            "Collecting requests-toolbelt (from retryable-requests->isic-cli)\n",
            "  Downloading requests_toolbelt-1.0.0-py2.py3-none-any.whl (54 kB)\n",
            "\u001b[2K     \u001b[90m━━━━━━━━━━━━━━━━━━━━━━━━━━━━━━━━━━━━━━━━\u001b[0m \u001b[32m54.5/54.5 kB\u001b[0m \u001b[31m5.1 MB/s\u001b[0m eta \u001b[36m0:00:00\u001b[0m\n",
            "\u001b[?25hRequirement already satisfied: markdown-it-py>=2.2.0 in /usr/local/lib/python3.10/dist-packages (from rich->isic-cli) (3.0.0)\n",
            "Requirement already satisfied: pygments<3.0.0,>=2.13.0 in /usr/local/lib/python3.10/dist-packages (from rich->isic-cli) (2.16.1)\n",
            "Requirement already satisfied: mdurl~=0.1 in /usr/local/lib/python3.10/dist-packages (from markdown-it-py>=2.2.0->rich->isic-cli) (0.1.2)\n",
            "Requirement already satisfied: annotated-types>=0.4.0 in /usr/local/lib/python3.10/dist-packages (from pydantic>=2->isic-metadata>=0.1.0->isic-cli) (0.5.0)\n",
            "Requirement already satisfied: pydantic-core==2.6.1 in /usr/local/lib/python3.10/dist-packages (from pydantic>=2->isic-metadata>=0.1.0->isic-cli) (2.6.1)\n",
            "Requirement already satisfied: typing-extensions>=4.6.1 in /usr/local/lib/python3.10/dist-packages (from pydantic>=2->isic-metadata>=0.1.0->isic-cli) (4.7.1)\n",
            "Requirement already satisfied: six>=1.5 in /usr/local/lib/python3.10/dist-packages (from python-dateutil>=2.8.1->pandas->isic-cli) (1.16.0)\n",
            "Requirement already satisfied: cryptography>=3.2 in /usr/local/lib/python3.10/dist-packages (from authlib->girder-cli-oauth-client<1.0.0->isic-cli) (41.0.3)\n",
            "Requirement already satisfied: cffi>=1.12 in /usr/local/lib/python3.10/dist-packages (from cryptography>=3.2->authlib->girder-cli-oauth-client<1.0.0->isic-cli) (1.15.1)\n",
            "Requirement already satisfied: pycparser in /usr/local/lib/python3.10/dist-packages (from cffi>=1.12->cryptography>=3.2->authlib->girder-cli-oauth-client<1.0.0->isic-cli) (2.21)\n",
            "Installing collected packages: pyxdg, sentry-sdk, requests-toolbelt, django-s3-file-field-client, retryable-requests, isic-metadata, authlib, girder-cli-oauth-client, isic-cli\n",
            "Successfully installed authlib-1.2.1 django-s3-file-field-client-0.3.2 girder-cli-oauth-client-0.4.0 isic-cli-7.2.0 isic-metadata-0.1.0 pyxdg-0.28 requests-toolbelt-1.0.0 retryable-requests-0.1.2 sentry-sdk-1.30.0\n"
          ]
        }
      ]
    },
    {
      "cell_type": "markdown",
      "source": [
        "##Dataset download"
      ],
      "metadata": {
        "id": "GDKCIexUtqQl"
      }
    },
    {
      "cell_type": "markdown",
      "source": [
        "The dataset is registered as a collection in the International Skin Imaging Collaboration (ISIC) archive. It can be accessed through this [link](https://doi.org/10.34970/432362). We resort to the official command line tool for interacting with the ISIC Archive to download images and the corresponding metadata.  "
      ],
      "metadata": {
        "id": "ROJz8Dwftt8j"
      }
    },
    {
      "cell_type": "code",
      "source": [
        "!isic collection list"
      ],
      "metadata": {
        "colab": {
          "base_uri": "https://localhost:8080/"
        },
        "id": "wHjTeJLptQzN",
        "outputId": "d22e500a-bb2f-48aa-f846-837f8204f793"
      },
      "execution_count": 3,
      "outputs": [
        {
          "output_type": "stream",
          "name": "stdout",
          "text": [
            "Psst, you're logged out. Logging in with `isic user login` might return more data.\n",
            "\n",
            "┏━━━━━┳━━━━━━━━━━━━━━━━━━━━━━━━━━━┳━━━━━━━━┳━━━━━━━━┳━━━━━━━━┳━━━━━━━━━━━━━━━━━┓\n",
            "┃\u001b[1m \u001b[0m\u001b[1mID \u001b[0m\u001b[1m \u001b[0m┃\u001b[1m \u001b[0m\u001b[1mName                     \u001b[0m\u001b[1m \u001b[0m┃\u001b[1m \u001b[0m\u001b[1mPublic\u001b[0m\u001b[1m \u001b[0m┃\u001b[1m \u001b[0m\u001b[1mPinned\u001b[0m\u001b[1m \u001b[0m┃\u001b[1m \u001b[0m\u001b[1mLocked\u001b[0m\u001b[1m \u001b[0m┃\u001b[1m \u001b[0m\u001b[1mDOI            \u001b[0m\u001b[1m \u001b[0m┃\n",
            "┡━━━━━╇━━━━━━━━━━━━━━━━━━━━━━━━━━━╇━━━━━━━━╇━━━━━━━━╇━━━━━━━━╇━━━━━━━━━━━━━━━━━┩\n",
            "│ 249 │ BCN20000                  │ True   │ False  │ False  │ None            │\n",
            "│ 61  │ Challenge 2016: Test      │ True   │ True   │ True   │ None            │\n",
            "│ 74  │ Challenge 2016: Training  │ True   │ True   │ True   │ None            │\n",
            "│ 69  │ Challenge 2017: Test      │ True   │ True   │ True   │ None            │\n",
            "│ 60  │ Challenge 2017: Training  │ True   │ True   │ True   │ None            │\n",
            "│ 71  │ Challenge 2017:           │ True   │ True   │ True   │ None            │\n",
            "│     │ Validation                │        │        │        │                 │\n",
            "│ 64  │ Challenge 2018: Task 1-2: │ True   │ True   │ True   │ None            │\n",
            "│     │ Test                      │        │        │        │                 │\n",
            "│ 63  │ Challenge 2018: Task 1-2: │ True   │ True   │ True   │ None            │\n",
            "│     │ Training                  │        │        │        │                 │\n",
            "│ 62  │ Challenge 2018: Task 1-2: │ True   │ True   │ True   │ None            │\n",
            "│     │ Validation                │        │        │        │                 │\n",
            "│ 67  │ Challenge 2018: Task 3:   │ True   │ True   │ True   │ None            │\n",
            "│     │ Test                      │        │        │        │                 │\n",
            "│ 66  │ Challenge 2018: Task 3:   │ True   │ True   │ True   │ None            │\n",
            "│     │ Training                  │        │        │        │                 │\n",
            "│ 73  │ Challenge 2018: Task 3:   │ True   │ True   │ True   │ None            │\n",
            "│     │ Validation                │        │        │        │                 │\n",
            "│ 65  │ Challenge 2019: Training  │ True   │ True   │ True   │ None            │\n",
            "│ 70  │ Challenge 2020: Training  │ True   │ True   │ True   │ None            │\n",
            "│ 97  │ Collection for ISBI 2016: │ True   │ False  │ True   │ None            │\n",
            "│     │ 100 Lesion Classification │        │        │        │                 │\n",
            "│ 216 │ Consecutive biopsies for  │ True   │ False  │ True   │ 10.34970/151324 │\n",
            "│     │ melanoma across year 2020 │        │        │        │                 │\n",
            "│ 75  │ Consumer AI apps          │ True   │ False  │ True   │ 10.34970/401946 │\n",
            "│ 166 │ EASY Dermoscopy Expert    │ True   │ False  │ False  │ None            │\n",
            "│     │ Agreement Study           │        │        │        │                 │\n",
            "│ 212 │ HAM10000                  │ True   │ True   │ True   │ None            │\n",
            "│ 175 │ HIBA Skin Lesions         │ True   │ False  │ True   │ 10.34970/559884 │\n",
            "│ 251 │ Hospital Italiano de      │ True   │ False  │ True   │ 10.34970/587329 │\n",
            "│     │ Buenos Aires - Skin       │        │        │        │                 │\n",
            "│     │ Lesions Images            │        │        │        │                 │\n",
            "│     │ (2019-2022)               │        │        │        │                 │\n",
            "│ 176 │ Hospital Italiano de      │ True   │ False  │ True   │ 10.34970/432362 │\n",
            "│     │ Buenos Aires Skin Lesions │        │        │        │                 │\n",
            "│ 217 │ Longitudinal overview     │ True   │ False  │ True   │ 10.34970/630662 │\n",
            "│     │ images of posterior       │        │        │        │                 │\n",
            "│     │ trunks                    │        │        │        │                 │\n",
            "│ 163 │ MSKCC Consecutive         │ True   │ False  │ True   │ None            │\n",
            "│     │ biopsies across year      │        │        │        │                 │\n",
            "│     │ 2020_cohort               │        │        │        │                 │\n",
            "│ 77  │ Melanocytic lesions used  │ True   │ False  │ True   │ 10.34970/108631 │\n",
            "│     │ for dermoscopic feature   │        │        │        │                 │\n",
            "│     │ annotations               │        │        │        │                 │\n",
            "│ 215 │ Newly-acquired and        │ True   │ False  │ True   │ 10.34970/408649 │\n",
            "│     │ longer-existing acquired  │        │        │        │                 │\n",
            "│     │ melanoma and nevi         │        │        │        │                 │\n",
            "│ 218 │ PROVe-AI                  │ True   │ True   │ True   │ 10.34970/576276 │\n",
            "│ 172 │ screenshot_public_230207  │ True   │ False  │ False  │ None            │\n",
            "└─────┴───────────────────────────┴────────┴────────┴────────┴─────────────────┘\n"
          ]
        }
      ]
    },
    {
      "cell_type": "markdown",
      "source": [
        "###Metadata"
      ],
      "metadata": {
        "id": "C9lZa5J7vFW2"
      }
    },
    {
      "cell_type": "code",
      "source": [
        "os.makedirs('./Data', exist_ok=True)"
      ],
      "metadata": {
        "id": "cQt7-z78SXOu"
      },
      "execution_count": 4,
      "outputs": []
    },
    {
      "cell_type": "code",
      "source": [
        "collection_id = 251\n",
        "!isic metadata download -c $collection_id -o ./Data/HIBA_dataset.csv"
      ],
      "metadata": {
        "id": "v9YZqDpPuI-u",
        "colab": {
          "base_uri": "https://localhost:8080/"
        },
        "outputId": "76c92930-2d42-48fe-a513-f75357059fc6"
      },
      "execution_count": 5,
      "outputs": [
        {
          "output_type": "stream",
          "name": "stdout",
          "text": [
            "Psst, you're logged out. Logging in with `isic user login` might return more data.\n",
            "\n",
            "\u001b[2KDownloading metadata records (1,616) \u001b[90m━━━━━━━━━━━━━━━━━━━━━━━━━━━━━━\u001b[0m \u001b[35m100%\u001b[0m \u001b[36m0:00:00\u001b[0m\n",
            "\u001b[?25h"
          ]
        }
      ]
    },
    {
      "cell_type": "code",
      "source": [
        "data = pd.read_csv('./Data/HIBA_dataset.csv')\n",
        "data['image_type'] = data['image_type'].str.replace('clinical: close-up','clinical').replace('clinical: overview','clinical')\n",
        "data"
      ],
      "metadata": {
        "colab": {
          "base_uri": "https://localhost:8080/",
          "height": 790
        },
        "id": "pgQWUQ8A2MRy",
        "outputId": "e7d027fa-93a5-41f0-e487-3c7f85a39a9c"
      },
      "execution_count": 6,
      "outputs": [
        {
          "output_type": "execute_result",
          "data": {
            "text/plain": [
              "           isic_id                        attribution copyright_license  \\\n",
              "0     ISIC_6230191  Hospital Italiano de Buenos Aires             CC-BY   \n",
              "1     ISIC_4485929  Hospital Italiano de Buenos Aires             CC-BY   \n",
              "2     ISIC_3079785  Hospital Italiano de Buenos Aires             CC-BY   \n",
              "3     ISIC_9677008  Hospital Italiano de Buenos Aires             CC-BY   \n",
              "4     ISIC_9129115  Hospital Italiano de Buenos Aires             CC-BY   \n",
              "...            ...                                ...               ...   \n",
              "1611  ISIC_6874409  Hospital Italiano de Buenos Aires             CC-BY   \n",
              "1612  ISIC_4385084  Hospital Italiano de Buenos Aires             CC-BY   \n",
              "1613  ISIC_9314666  Hospital Italiano de Buenos Aires             CC-BY   \n",
              "1614  ISIC_8229835  Hospital Italiano de Buenos Aires             CC-BY   \n",
              "1615  ISIC_7874486  Hospital Italiano de Buenos Aires             CC-BY   \n",
              "\n",
              "      age_approx anatom_site_general benign_malignant   dermoscopic_type  \\\n",
              "0           25.0      anterior torso        malignant  contact polarized   \n",
              "1           65.0      anterior torso           benign  contact polarized   \n",
              "2           45.0     lower extremity           benign  contact polarized   \n",
              "3           30.0     posterior torso        malignant  contact polarized   \n",
              "4           75.0     posterior torso           benign                NaN   \n",
              "...          ...                 ...              ...                ...   \n",
              "1611        75.0     lower extremity        malignant                NaN   \n",
              "1612        75.0     lower extremity        malignant  contact polarized   \n",
              "1613        55.0           head/neck           benign  contact polarized   \n",
              "1614        65.0     posterior torso        malignant                NaN   \n",
              "1615        65.0     posterior torso        malignant  contact polarized   \n",
              "\n",
              "                 diagnosis diagnosis_confirm_type family_hx_mm   image_type  \\\n",
              "0                 melanoma         histopathology          NaN  dermoscopic   \n",
              "1     seborrheic keratosis                    NaN          NaN  dermoscopic   \n",
              "2                    nevus         histopathology        False  dermoscopic   \n",
              "3                 melanoma         histopathology          NaN  dermoscopic   \n",
              "4        actinic keratosis         histopathology          NaN     clinical   \n",
              "...                    ...                    ...          ...          ...   \n",
              "1611  basal cell carcinoma         histopathology          NaN     clinical   \n",
              "1612  basal cell carcinoma         histopathology          NaN  dermoscopic   \n",
              "1613     actinic keratosis         histopathology          NaN  dermoscopic   \n",
              "1614  basal cell carcinoma         histopathology          NaN     clinical   \n",
              "1615  basal cell carcinoma         histopathology          NaN  dermoscopic   \n",
              "\n",
              "       lesion_id  patient_id personal_hx_mm  pixels_x  pixels_y     sex  \n",
              "0     IL_8124990  IP_8542863           True       640       480    male  \n",
              "1     IL_1921228  IP_9326183           True      2448      2448  female  \n",
              "2     IL_3797557  IP_4906546          False       640       480    male  \n",
              "3     IL_3556705  IP_5493434           True      1409      2900  female  \n",
              "4     IL_2485486  IP_8947694            NaN       498      1026  female  \n",
              "...          ...         ...            ...       ...       ...     ...  \n",
              "1611  IL_7279125  IP_4513580            NaN      1420      1602  female  \n",
              "1612  IL_7279125  IP_4513580            NaN      1738      3574  female  \n",
              "1613  IL_1313631  IP_7048742            NaN      1918       933  female  \n",
              "1614  IL_9261445  IP_4577038            NaN       457       304    male  \n",
              "1615  IL_9261445  IP_4577038            NaN      1412      2904    male  \n",
              "\n",
              "[1616 rows x 17 columns]"
            ],
            "text/html": [
              "\n",
              "  <div id=\"df-f3c1a9af-3408-431f-8fd1-4f5cc04cd75d\" class=\"colab-df-container\">\n",
              "    <div>\n",
              "<style scoped>\n",
              "    .dataframe tbody tr th:only-of-type {\n",
              "        vertical-align: middle;\n",
              "    }\n",
              "\n",
              "    .dataframe tbody tr th {\n",
              "        vertical-align: top;\n",
              "    }\n",
              "\n",
              "    .dataframe thead th {\n",
              "        text-align: right;\n",
              "    }\n",
              "</style>\n",
              "<table border=\"1\" class=\"dataframe\">\n",
              "  <thead>\n",
              "    <tr style=\"text-align: right;\">\n",
              "      <th></th>\n",
              "      <th>isic_id</th>\n",
              "      <th>attribution</th>\n",
              "      <th>copyright_license</th>\n",
              "      <th>age_approx</th>\n",
              "      <th>anatom_site_general</th>\n",
              "      <th>benign_malignant</th>\n",
              "      <th>dermoscopic_type</th>\n",
              "      <th>diagnosis</th>\n",
              "      <th>diagnosis_confirm_type</th>\n",
              "      <th>family_hx_mm</th>\n",
              "      <th>image_type</th>\n",
              "      <th>lesion_id</th>\n",
              "      <th>patient_id</th>\n",
              "      <th>personal_hx_mm</th>\n",
              "      <th>pixels_x</th>\n",
              "      <th>pixels_y</th>\n",
              "      <th>sex</th>\n",
              "    </tr>\n",
              "  </thead>\n",
              "  <tbody>\n",
              "    <tr>\n",
              "      <th>0</th>\n",
              "      <td>ISIC_6230191</td>\n",
              "      <td>Hospital Italiano de Buenos Aires</td>\n",
              "      <td>CC-BY</td>\n",
              "      <td>25.0</td>\n",
              "      <td>anterior torso</td>\n",
              "      <td>malignant</td>\n",
              "      <td>contact polarized</td>\n",
              "      <td>melanoma</td>\n",
              "      <td>histopathology</td>\n",
              "      <td>NaN</td>\n",
              "      <td>dermoscopic</td>\n",
              "      <td>IL_8124990</td>\n",
              "      <td>IP_8542863</td>\n",
              "      <td>True</td>\n",
              "      <td>640</td>\n",
              "      <td>480</td>\n",
              "      <td>male</td>\n",
              "    </tr>\n",
              "    <tr>\n",
              "      <th>1</th>\n",
              "      <td>ISIC_4485929</td>\n",
              "      <td>Hospital Italiano de Buenos Aires</td>\n",
              "      <td>CC-BY</td>\n",
              "      <td>65.0</td>\n",
              "      <td>anterior torso</td>\n",
              "      <td>benign</td>\n",
              "      <td>contact polarized</td>\n",
              "      <td>seborrheic keratosis</td>\n",
              "      <td>NaN</td>\n",
              "      <td>NaN</td>\n",
              "      <td>dermoscopic</td>\n",
              "      <td>IL_1921228</td>\n",
              "      <td>IP_9326183</td>\n",
              "      <td>True</td>\n",
              "      <td>2448</td>\n",
              "      <td>2448</td>\n",
              "      <td>female</td>\n",
              "    </tr>\n",
              "    <tr>\n",
              "      <th>2</th>\n",
              "      <td>ISIC_3079785</td>\n",
              "      <td>Hospital Italiano de Buenos Aires</td>\n",
              "      <td>CC-BY</td>\n",
              "      <td>45.0</td>\n",
              "      <td>lower extremity</td>\n",
              "      <td>benign</td>\n",
              "      <td>contact polarized</td>\n",
              "      <td>nevus</td>\n",
              "      <td>histopathology</td>\n",
              "      <td>False</td>\n",
              "      <td>dermoscopic</td>\n",
              "      <td>IL_3797557</td>\n",
              "      <td>IP_4906546</td>\n",
              "      <td>False</td>\n",
              "      <td>640</td>\n",
              "      <td>480</td>\n",
              "      <td>male</td>\n",
              "    </tr>\n",
              "    <tr>\n",
              "      <th>3</th>\n",
              "      <td>ISIC_9677008</td>\n",
              "      <td>Hospital Italiano de Buenos Aires</td>\n",
              "      <td>CC-BY</td>\n",
              "      <td>30.0</td>\n",
              "      <td>posterior torso</td>\n",
              "      <td>malignant</td>\n",
              "      <td>contact polarized</td>\n",
              "      <td>melanoma</td>\n",
              "      <td>histopathology</td>\n",
              "      <td>NaN</td>\n",
              "      <td>dermoscopic</td>\n",
              "      <td>IL_3556705</td>\n",
              "      <td>IP_5493434</td>\n",
              "      <td>True</td>\n",
              "      <td>1409</td>\n",
              "      <td>2900</td>\n",
              "      <td>female</td>\n",
              "    </tr>\n",
              "    <tr>\n",
              "      <th>4</th>\n",
              "      <td>ISIC_9129115</td>\n",
              "      <td>Hospital Italiano de Buenos Aires</td>\n",
              "      <td>CC-BY</td>\n",
              "      <td>75.0</td>\n",
              "      <td>posterior torso</td>\n",
              "      <td>benign</td>\n",
              "      <td>NaN</td>\n",
              "      <td>actinic keratosis</td>\n",
              "      <td>histopathology</td>\n",
              "      <td>NaN</td>\n",
              "      <td>clinical</td>\n",
              "      <td>IL_2485486</td>\n",
              "      <td>IP_8947694</td>\n",
              "      <td>NaN</td>\n",
              "      <td>498</td>\n",
              "      <td>1026</td>\n",
              "      <td>female</td>\n",
              "    </tr>\n",
              "    <tr>\n",
              "      <th>...</th>\n",
              "      <td>...</td>\n",
              "      <td>...</td>\n",
              "      <td>...</td>\n",
              "      <td>...</td>\n",
              "      <td>...</td>\n",
              "      <td>...</td>\n",
              "      <td>...</td>\n",
              "      <td>...</td>\n",
              "      <td>...</td>\n",
              "      <td>...</td>\n",
              "      <td>...</td>\n",
              "      <td>...</td>\n",
              "      <td>...</td>\n",
              "      <td>...</td>\n",
              "      <td>...</td>\n",
              "      <td>...</td>\n",
              "      <td>...</td>\n",
              "    </tr>\n",
              "    <tr>\n",
              "      <th>1611</th>\n",
              "      <td>ISIC_6874409</td>\n",
              "      <td>Hospital Italiano de Buenos Aires</td>\n",
              "      <td>CC-BY</td>\n",
              "      <td>75.0</td>\n",
              "      <td>lower extremity</td>\n",
              "      <td>malignant</td>\n",
              "      <td>NaN</td>\n",
              "      <td>basal cell carcinoma</td>\n",
              "      <td>histopathology</td>\n",
              "      <td>NaN</td>\n",
              "      <td>clinical</td>\n",
              "      <td>IL_7279125</td>\n",
              "      <td>IP_4513580</td>\n",
              "      <td>NaN</td>\n",
              "      <td>1420</td>\n",
              "      <td>1602</td>\n",
              "      <td>female</td>\n",
              "    </tr>\n",
              "    <tr>\n",
              "      <th>1612</th>\n",
              "      <td>ISIC_4385084</td>\n",
              "      <td>Hospital Italiano de Buenos Aires</td>\n",
              "      <td>CC-BY</td>\n",
              "      <td>75.0</td>\n",
              "      <td>lower extremity</td>\n",
              "      <td>malignant</td>\n",
              "      <td>contact polarized</td>\n",
              "      <td>basal cell carcinoma</td>\n",
              "      <td>histopathology</td>\n",
              "      <td>NaN</td>\n",
              "      <td>dermoscopic</td>\n",
              "      <td>IL_7279125</td>\n",
              "      <td>IP_4513580</td>\n",
              "      <td>NaN</td>\n",
              "      <td>1738</td>\n",
              "      <td>3574</td>\n",
              "      <td>female</td>\n",
              "    </tr>\n",
              "    <tr>\n",
              "      <th>1613</th>\n",
              "      <td>ISIC_9314666</td>\n",
              "      <td>Hospital Italiano de Buenos Aires</td>\n",
              "      <td>CC-BY</td>\n",
              "      <td>55.0</td>\n",
              "      <td>head/neck</td>\n",
              "      <td>benign</td>\n",
              "      <td>contact polarized</td>\n",
              "      <td>actinic keratosis</td>\n",
              "      <td>histopathology</td>\n",
              "      <td>NaN</td>\n",
              "      <td>dermoscopic</td>\n",
              "      <td>IL_1313631</td>\n",
              "      <td>IP_7048742</td>\n",
              "      <td>NaN</td>\n",
              "      <td>1918</td>\n",
              "      <td>933</td>\n",
              "      <td>female</td>\n",
              "    </tr>\n",
              "    <tr>\n",
              "      <th>1614</th>\n",
              "      <td>ISIC_8229835</td>\n",
              "      <td>Hospital Italiano de Buenos Aires</td>\n",
              "      <td>CC-BY</td>\n",
              "      <td>65.0</td>\n",
              "      <td>posterior torso</td>\n",
              "      <td>malignant</td>\n",
              "      <td>NaN</td>\n",
              "      <td>basal cell carcinoma</td>\n",
              "      <td>histopathology</td>\n",
              "      <td>NaN</td>\n",
              "      <td>clinical</td>\n",
              "      <td>IL_9261445</td>\n",
              "      <td>IP_4577038</td>\n",
              "      <td>NaN</td>\n",
              "      <td>457</td>\n",
              "      <td>304</td>\n",
              "      <td>male</td>\n",
              "    </tr>\n",
              "    <tr>\n",
              "      <th>1615</th>\n",
              "      <td>ISIC_7874486</td>\n",
              "      <td>Hospital Italiano de Buenos Aires</td>\n",
              "      <td>CC-BY</td>\n",
              "      <td>65.0</td>\n",
              "      <td>posterior torso</td>\n",
              "      <td>malignant</td>\n",
              "      <td>contact polarized</td>\n",
              "      <td>basal cell carcinoma</td>\n",
              "      <td>histopathology</td>\n",
              "      <td>NaN</td>\n",
              "      <td>dermoscopic</td>\n",
              "      <td>IL_9261445</td>\n",
              "      <td>IP_4577038</td>\n",
              "      <td>NaN</td>\n",
              "      <td>1412</td>\n",
              "      <td>2904</td>\n",
              "      <td>male</td>\n",
              "    </tr>\n",
              "  </tbody>\n",
              "</table>\n",
              "<p>1616 rows × 17 columns</p>\n",
              "</div>\n",
              "    <div class=\"colab-df-buttons\">\n",
              "\n",
              "  <div class=\"colab-df-container\">\n",
              "    <button class=\"colab-df-convert\" onclick=\"convertToInteractive('df-f3c1a9af-3408-431f-8fd1-4f5cc04cd75d')\"\n",
              "            title=\"Convert this dataframe to an interactive table.\"\n",
              "            style=\"display:none;\">\n",
              "\n",
              "  <svg xmlns=\"http://www.w3.org/2000/svg\" height=\"24px\" viewBox=\"0 -960 960 960\">\n",
              "    <path d=\"M120-120v-720h720v720H120Zm60-500h600v-160H180v160Zm220 220h160v-160H400v160Zm0 220h160v-160H400v160ZM180-400h160v-160H180v160Zm440 0h160v-160H620v160ZM180-180h160v-160H180v160Zm440 0h160v-160H620v160Z\"/>\n",
              "  </svg>\n",
              "    </button>\n",
              "\n",
              "  <style>\n",
              "    .colab-df-container {\n",
              "      display:flex;\n",
              "      gap: 12px;\n",
              "    }\n",
              "\n",
              "    .colab-df-convert {\n",
              "      background-color: #E8F0FE;\n",
              "      border: none;\n",
              "      border-radius: 50%;\n",
              "      cursor: pointer;\n",
              "      display: none;\n",
              "      fill: #1967D2;\n",
              "      height: 32px;\n",
              "      padding: 0 0 0 0;\n",
              "      width: 32px;\n",
              "    }\n",
              "\n",
              "    .colab-df-convert:hover {\n",
              "      background-color: #E2EBFA;\n",
              "      box-shadow: 0px 1px 2px rgba(60, 64, 67, 0.3), 0px 1px 3px 1px rgba(60, 64, 67, 0.15);\n",
              "      fill: #174EA6;\n",
              "    }\n",
              "\n",
              "    .colab-df-buttons div {\n",
              "      margin-bottom: 4px;\n",
              "    }\n",
              "\n",
              "    [theme=dark] .colab-df-convert {\n",
              "      background-color: #3B4455;\n",
              "      fill: #D2E3FC;\n",
              "    }\n",
              "\n",
              "    [theme=dark] .colab-df-convert:hover {\n",
              "      background-color: #434B5C;\n",
              "      box-shadow: 0px 1px 3px 1px rgba(0, 0, 0, 0.15);\n",
              "      filter: drop-shadow(0px 1px 2px rgba(0, 0, 0, 0.3));\n",
              "      fill: #FFFFFF;\n",
              "    }\n",
              "  </style>\n",
              "\n",
              "    <script>\n",
              "      const buttonEl =\n",
              "        document.querySelector('#df-f3c1a9af-3408-431f-8fd1-4f5cc04cd75d button.colab-df-convert');\n",
              "      buttonEl.style.display =\n",
              "        google.colab.kernel.accessAllowed ? 'block' : 'none';\n",
              "\n",
              "      async function convertToInteractive(key) {\n",
              "        const element = document.querySelector('#df-f3c1a9af-3408-431f-8fd1-4f5cc04cd75d');\n",
              "        const dataTable =\n",
              "          await google.colab.kernel.invokeFunction('convertToInteractive',\n",
              "                                                    [key], {});\n",
              "        if (!dataTable) return;\n",
              "\n",
              "        const docLinkHtml = 'Like what you see? Visit the ' +\n",
              "          '<a target=\"_blank\" href=https://colab.research.google.com/notebooks/data_table.ipynb>data table notebook</a>'\n",
              "          + ' to learn more about interactive tables.';\n",
              "        element.innerHTML = '';\n",
              "        dataTable['output_type'] = 'display_data';\n",
              "        await google.colab.output.renderOutput(dataTable, element);\n",
              "        const docLink = document.createElement('div');\n",
              "        docLink.innerHTML = docLinkHtml;\n",
              "        element.appendChild(docLink);\n",
              "      }\n",
              "    </script>\n",
              "  </div>\n",
              "\n",
              "\n",
              "<div id=\"df-e8dee32f-3576-402b-b292-b96ee83e73e6\">\n",
              "  <button class=\"colab-df-quickchart\" onclick=\"quickchart('df-e8dee32f-3576-402b-b292-b96ee83e73e6')\"\n",
              "            title=\"Suggest charts.\"\n",
              "            style=\"display:none;\">\n",
              "\n",
              "<svg xmlns=\"http://www.w3.org/2000/svg\" height=\"24px\"viewBox=\"0 0 24 24\"\n",
              "     width=\"24px\">\n",
              "    <g>\n",
              "        <path d=\"M19 3H5c-1.1 0-2 .9-2 2v14c0 1.1.9 2 2 2h14c1.1 0 2-.9 2-2V5c0-1.1-.9-2-2-2zM9 17H7v-7h2v7zm4 0h-2V7h2v10zm4 0h-2v-4h2v4z\"/>\n",
              "    </g>\n",
              "</svg>\n",
              "  </button>\n",
              "\n",
              "<style>\n",
              "  .colab-df-quickchart {\n",
              "      --bg-color: #E8F0FE;\n",
              "      --fill-color: #1967D2;\n",
              "      --hover-bg-color: #E2EBFA;\n",
              "      --hover-fill-color: #174EA6;\n",
              "      --disabled-fill-color: #AAA;\n",
              "      --disabled-bg-color: #DDD;\n",
              "  }\n",
              "\n",
              "  [theme=dark] .colab-df-quickchart {\n",
              "      --bg-color: #3B4455;\n",
              "      --fill-color: #D2E3FC;\n",
              "      --hover-bg-color: #434B5C;\n",
              "      --hover-fill-color: #FFFFFF;\n",
              "      --disabled-bg-color: #3B4455;\n",
              "      --disabled-fill-color: #666;\n",
              "  }\n",
              "\n",
              "  .colab-df-quickchart {\n",
              "    background-color: var(--bg-color);\n",
              "    border: none;\n",
              "    border-radius: 50%;\n",
              "    cursor: pointer;\n",
              "    display: none;\n",
              "    fill: var(--fill-color);\n",
              "    height: 32px;\n",
              "    padding: 0;\n",
              "    width: 32px;\n",
              "  }\n",
              "\n",
              "  .colab-df-quickchart:hover {\n",
              "    background-color: var(--hover-bg-color);\n",
              "    box-shadow: 0 1px 2px rgba(60, 64, 67, 0.3), 0 1px 3px 1px rgba(60, 64, 67, 0.15);\n",
              "    fill: var(--button-hover-fill-color);\n",
              "  }\n",
              "\n",
              "  .colab-df-quickchart-complete:disabled,\n",
              "  .colab-df-quickchart-complete:disabled:hover {\n",
              "    background-color: var(--disabled-bg-color);\n",
              "    fill: var(--disabled-fill-color);\n",
              "    box-shadow: none;\n",
              "  }\n",
              "\n",
              "  .colab-df-spinner {\n",
              "    border: 2px solid var(--fill-color);\n",
              "    border-color: transparent;\n",
              "    border-bottom-color: var(--fill-color);\n",
              "    animation:\n",
              "      spin 1s steps(1) infinite;\n",
              "  }\n",
              "\n",
              "  @keyframes spin {\n",
              "    0% {\n",
              "      border-color: transparent;\n",
              "      border-bottom-color: var(--fill-color);\n",
              "      border-left-color: var(--fill-color);\n",
              "    }\n",
              "    20% {\n",
              "      border-color: transparent;\n",
              "      border-left-color: var(--fill-color);\n",
              "      border-top-color: var(--fill-color);\n",
              "    }\n",
              "    30% {\n",
              "      border-color: transparent;\n",
              "      border-left-color: var(--fill-color);\n",
              "      border-top-color: var(--fill-color);\n",
              "      border-right-color: var(--fill-color);\n",
              "    }\n",
              "    40% {\n",
              "      border-color: transparent;\n",
              "      border-right-color: var(--fill-color);\n",
              "      border-top-color: var(--fill-color);\n",
              "    }\n",
              "    60% {\n",
              "      border-color: transparent;\n",
              "      border-right-color: var(--fill-color);\n",
              "    }\n",
              "    80% {\n",
              "      border-color: transparent;\n",
              "      border-right-color: var(--fill-color);\n",
              "      border-bottom-color: var(--fill-color);\n",
              "    }\n",
              "    90% {\n",
              "      border-color: transparent;\n",
              "      border-bottom-color: var(--fill-color);\n",
              "    }\n",
              "  }\n",
              "</style>\n",
              "\n",
              "  <script>\n",
              "    async function quickchart(key) {\n",
              "      const quickchartButtonEl =\n",
              "        document.querySelector('#' + key + ' button');\n",
              "      quickchartButtonEl.disabled = true;  // To prevent multiple clicks.\n",
              "      quickchartButtonEl.classList.add('colab-df-spinner');\n",
              "      try {\n",
              "        const charts = await google.colab.kernel.invokeFunction(\n",
              "            'suggestCharts', [key], {});\n",
              "      } catch (error) {\n",
              "        console.error('Error during call to suggestCharts:', error);\n",
              "      }\n",
              "      quickchartButtonEl.classList.remove('colab-df-spinner');\n",
              "      quickchartButtonEl.classList.add('colab-df-quickchart-complete');\n",
              "    }\n",
              "    (() => {\n",
              "      let quickchartButtonEl =\n",
              "        document.querySelector('#df-e8dee32f-3576-402b-b292-b96ee83e73e6 button');\n",
              "      quickchartButtonEl.style.display =\n",
              "        google.colab.kernel.accessAllowed ? 'block' : 'none';\n",
              "    })();\n",
              "  </script>\n",
              "</div>\n",
              "    </div>\n",
              "  </div>\n"
            ]
          },
          "metadata": {},
          "execution_count": 6
        }
      ]
    },
    {
      "cell_type": "code",
      "source": [
        "#include supplementary data in the dataframe\n",
        "sup_data = pd.read_csv('./Data/SupplementaryData.csv')\n",
        "sup_data.head(2)"
      ],
      "metadata": {
        "colab": {
          "base_uri": "https://localhost:8080/",
          "height": 112
        },
        "outputId": "72bcc75a-cfea-4697-ea7d-453880f20fa4",
        "id": "5fnbK3ns0RI0"
      },
      "execution_count": 21,
      "outputs": [
        {
          "output_type": "execute_result",
          "data": {
            "text/plain": [
              "        isic_id skin_type\n",
              "0  ISIC_6230191        II\n",
              "1  ISIC_4485929         I"
            ],
            "text/html": [
              "\n",
              "  <div id=\"df-6f7fe2ca-1b62-4182-b685-157748a8101f\" class=\"colab-df-container\">\n",
              "    <div>\n",
              "<style scoped>\n",
              "    .dataframe tbody tr th:only-of-type {\n",
              "        vertical-align: middle;\n",
              "    }\n",
              "\n",
              "    .dataframe tbody tr th {\n",
              "        vertical-align: top;\n",
              "    }\n",
              "\n",
              "    .dataframe thead th {\n",
              "        text-align: right;\n",
              "    }\n",
              "</style>\n",
              "<table border=\"1\" class=\"dataframe\">\n",
              "  <thead>\n",
              "    <tr style=\"text-align: right;\">\n",
              "      <th></th>\n",
              "      <th>isic_id</th>\n",
              "      <th>skin_type</th>\n",
              "    </tr>\n",
              "  </thead>\n",
              "  <tbody>\n",
              "    <tr>\n",
              "      <th>0</th>\n",
              "      <td>ISIC_6230191</td>\n",
              "      <td>II</td>\n",
              "    </tr>\n",
              "    <tr>\n",
              "      <th>1</th>\n",
              "      <td>ISIC_4485929</td>\n",
              "      <td>I</td>\n",
              "    </tr>\n",
              "  </tbody>\n",
              "</table>\n",
              "</div>\n",
              "    <div class=\"colab-df-buttons\">\n",
              "\n",
              "  <div class=\"colab-df-container\">\n",
              "    <button class=\"colab-df-convert\" onclick=\"convertToInteractive('df-6f7fe2ca-1b62-4182-b685-157748a8101f')\"\n",
              "            title=\"Convert this dataframe to an interactive table.\"\n",
              "            style=\"display:none;\">\n",
              "\n",
              "  <svg xmlns=\"http://www.w3.org/2000/svg\" height=\"24px\" viewBox=\"0 -960 960 960\">\n",
              "    <path d=\"M120-120v-720h720v720H120Zm60-500h600v-160H180v160Zm220 220h160v-160H400v160Zm0 220h160v-160H400v160ZM180-400h160v-160H180v160Zm440 0h160v-160H620v160ZM180-180h160v-160H180v160Zm440 0h160v-160H620v160Z\"/>\n",
              "  </svg>\n",
              "    </button>\n",
              "\n",
              "  <style>\n",
              "    .colab-df-container {\n",
              "      display:flex;\n",
              "      gap: 12px;\n",
              "    }\n",
              "\n",
              "    .colab-df-convert {\n",
              "      background-color: #E8F0FE;\n",
              "      border: none;\n",
              "      border-radius: 50%;\n",
              "      cursor: pointer;\n",
              "      display: none;\n",
              "      fill: #1967D2;\n",
              "      height: 32px;\n",
              "      padding: 0 0 0 0;\n",
              "      width: 32px;\n",
              "    }\n",
              "\n",
              "    .colab-df-convert:hover {\n",
              "      background-color: #E2EBFA;\n",
              "      box-shadow: 0px 1px 2px rgba(60, 64, 67, 0.3), 0px 1px 3px 1px rgba(60, 64, 67, 0.15);\n",
              "      fill: #174EA6;\n",
              "    }\n",
              "\n",
              "    .colab-df-buttons div {\n",
              "      margin-bottom: 4px;\n",
              "    }\n",
              "\n",
              "    [theme=dark] .colab-df-convert {\n",
              "      background-color: #3B4455;\n",
              "      fill: #D2E3FC;\n",
              "    }\n",
              "\n",
              "    [theme=dark] .colab-df-convert:hover {\n",
              "      background-color: #434B5C;\n",
              "      box-shadow: 0px 1px 3px 1px rgba(0, 0, 0, 0.15);\n",
              "      filter: drop-shadow(0px 1px 2px rgba(0, 0, 0, 0.3));\n",
              "      fill: #FFFFFF;\n",
              "    }\n",
              "  </style>\n",
              "\n",
              "    <script>\n",
              "      const buttonEl =\n",
              "        document.querySelector('#df-6f7fe2ca-1b62-4182-b685-157748a8101f button.colab-df-convert');\n",
              "      buttonEl.style.display =\n",
              "        google.colab.kernel.accessAllowed ? 'block' : 'none';\n",
              "\n",
              "      async function convertToInteractive(key) {\n",
              "        const element = document.querySelector('#df-6f7fe2ca-1b62-4182-b685-157748a8101f');\n",
              "        const dataTable =\n",
              "          await google.colab.kernel.invokeFunction('convertToInteractive',\n",
              "                                                    [key], {});\n",
              "        if (!dataTable) return;\n",
              "\n",
              "        const docLinkHtml = 'Like what you see? Visit the ' +\n",
              "          '<a target=\"_blank\" href=https://colab.research.google.com/notebooks/data_table.ipynb>data table notebook</a>'\n",
              "          + ' to learn more about interactive tables.';\n",
              "        element.innerHTML = '';\n",
              "        dataTable['output_type'] = 'display_data';\n",
              "        await google.colab.output.renderOutput(dataTable, element);\n",
              "        const docLink = document.createElement('div');\n",
              "        docLink.innerHTML = docLinkHtml;\n",
              "        element.appendChild(docLink);\n",
              "      }\n",
              "    </script>\n",
              "  </div>\n",
              "\n",
              "\n",
              "<div id=\"df-b9a13a25-77d3-4b10-9ceb-cb68a258a16c\">\n",
              "  <button class=\"colab-df-quickchart\" onclick=\"quickchart('df-b9a13a25-77d3-4b10-9ceb-cb68a258a16c')\"\n",
              "            title=\"Suggest charts.\"\n",
              "            style=\"display:none;\">\n",
              "\n",
              "<svg xmlns=\"http://www.w3.org/2000/svg\" height=\"24px\"viewBox=\"0 0 24 24\"\n",
              "     width=\"24px\">\n",
              "    <g>\n",
              "        <path d=\"M19 3H5c-1.1 0-2 .9-2 2v14c0 1.1.9 2 2 2h14c1.1 0 2-.9 2-2V5c0-1.1-.9-2-2-2zM9 17H7v-7h2v7zm4 0h-2V7h2v10zm4 0h-2v-4h2v4z\"/>\n",
              "    </g>\n",
              "</svg>\n",
              "  </button>\n",
              "\n",
              "<style>\n",
              "  .colab-df-quickchart {\n",
              "      --bg-color: #E8F0FE;\n",
              "      --fill-color: #1967D2;\n",
              "      --hover-bg-color: #E2EBFA;\n",
              "      --hover-fill-color: #174EA6;\n",
              "      --disabled-fill-color: #AAA;\n",
              "      --disabled-bg-color: #DDD;\n",
              "  }\n",
              "\n",
              "  [theme=dark] .colab-df-quickchart {\n",
              "      --bg-color: #3B4455;\n",
              "      --fill-color: #D2E3FC;\n",
              "      --hover-bg-color: #434B5C;\n",
              "      --hover-fill-color: #FFFFFF;\n",
              "      --disabled-bg-color: #3B4455;\n",
              "      --disabled-fill-color: #666;\n",
              "  }\n",
              "\n",
              "  .colab-df-quickchart {\n",
              "    background-color: var(--bg-color);\n",
              "    border: none;\n",
              "    border-radius: 50%;\n",
              "    cursor: pointer;\n",
              "    display: none;\n",
              "    fill: var(--fill-color);\n",
              "    height: 32px;\n",
              "    padding: 0;\n",
              "    width: 32px;\n",
              "  }\n",
              "\n",
              "  .colab-df-quickchart:hover {\n",
              "    background-color: var(--hover-bg-color);\n",
              "    box-shadow: 0 1px 2px rgba(60, 64, 67, 0.3), 0 1px 3px 1px rgba(60, 64, 67, 0.15);\n",
              "    fill: var(--button-hover-fill-color);\n",
              "  }\n",
              "\n",
              "  .colab-df-quickchart-complete:disabled,\n",
              "  .colab-df-quickchart-complete:disabled:hover {\n",
              "    background-color: var(--disabled-bg-color);\n",
              "    fill: var(--disabled-fill-color);\n",
              "    box-shadow: none;\n",
              "  }\n",
              "\n",
              "  .colab-df-spinner {\n",
              "    border: 2px solid var(--fill-color);\n",
              "    border-color: transparent;\n",
              "    border-bottom-color: var(--fill-color);\n",
              "    animation:\n",
              "      spin 1s steps(1) infinite;\n",
              "  }\n",
              "\n",
              "  @keyframes spin {\n",
              "    0% {\n",
              "      border-color: transparent;\n",
              "      border-bottom-color: var(--fill-color);\n",
              "      border-left-color: var(--fill-color);\n",
              "    }\n",
              "    20% {\n",
              "      border-color: transparent;\n",
              "      border-left-color: var(--fill-color);\n",
              "      border-top-color: var(--fill-color);\n",
              "    }\n",
              "    30% {\n",
              "      border-color: transparent;\n",
              "      border-left-color: var(--fill-color);\n",
              "      border-top-color: var(--fill-color);\n",
              "      border-right-color: var(--fill-color);\n",
              "    }\n",
              "    40% {\n",
              "      border-color: transparent;\n",
              "      border-right-color: var(--fill-color);\n",
              "      border-top-color: var(--fill-color);\n",
              "    }\n",
              "    60% {\n",
              "      border-color: transparent;\n",
              "      border-right-color: var(--fill-color);\n",
              "    }\n",
              "    80% {\n",
              "      border-color: transparent;\n",
              "      border-right-color: var(--fill-color);\n",
              "      border-bottom-color: var(--fill-color);\n",
              "    }\n",
              "    90% {\n",
              "      border-color: transparent;\n",
              "      border-bottom-color: var(--fill-color);\n",
              "    }\n",
              "  }\n",
              "</style>\n",
              "\n",
              "  <script>\n",
              "    async function quickchart(key) {\n",
              "      const quickchartButtonEl =\n",
              "        document.querySelector('#' + key + ' button');\n",
              "      quickchartButtonEl.disabled = true;  // To prevent multiple clicks.\n",
              "      quickchartButtonEl.classList.add('colab-df-spinner');\n",
              "      try {\n",
              "        const charts = await google.colab.kernel.invokeFunction(\n",
              "            'suggestCharts', [key], {});\n",
              "      } catch (error) {\n",
              "        console.error('Error during call to suggestCharts:', error);\n",
              "      }\n",
              "      quickchartButtonEl.classList.remove('colab-df-spinner');\n",
              "      quickchartButtonEl.classList.add('colab-df-quickchart-complete');\n",
              "    }\n",
              "    (() => {\n",
              "      let quickchartButtonEl =\n",
              "        document.querySelector('#df-b9a13a25-77d3-4b10-9ceb-cb68a258a16c button');\n",
              "      quickchartButtonEl.style.display =\n",
              "        google.colab.kernel.accessAllowed ? 'block' : 'none';\n",
              "    })();\n",
              "  </script>\n",
              "</div>\n",
              "    </div>\n",
              "  </div>\n"
            ]
          },
          "metadata": {},
          "execution_count": 21
        }
      ]
    },
    {
      "cell_type": "code",
      "source": [
        "data = data.merge(sup_data, on='isic_id')\n",
        "data.head()"
      ],
      "metadata": {
        "colab": {
          "base_uri": "https://localhost:8080/",
          "height": 399
        },
        "outputId": "e3abe0b7-10cb-42bc-f585-a07ce6da39ab",
        "id": "8BydpfBh0RI1"
      },
      "execution_count": 24,
      "outputs": [
        {
          "output_type": "execute_result",
          "data": {
            "text/plain": [
              "        isic_id                        attribution copyright_license  \\\n",
              "0  ISIC_6230191  Hospital Italiano de Buenos Aires             CC-BY   \n",
              "1  ISIC_4485929  Hospital Italiano de Buenos Aires             CC-BY   \n",
              "2  ISIC_3079785  Hospital Italiano de Buenos Aires             CC-BY   \n",
              "3  ISIC_9677008  Hospital Italiano de Buenos Aires             CC-BY   \n",
              "4  ISIC_9129115  Hospital Italiano de Buenos Aires             CC-BY   \n",
              "\n",
              "   age_approx anatom_site_general benign_malignant   dermoscopic_type  \\\n",
              "0        25.0      anterior torso        malignant  contact polarized   \n",
              "1        65.0      anterior torso           benign  contact polarized   \n",
              "2        45.0     lower extremity           benign  contact polarized   \n",
              "3        30.0     posterior torso        malignant  contact polarized   \n",
              "4        75.0     posterior torso           benign                NaN   \n",
              "\n",
              "              diagnosis diagnosis_confirm_type family_hx_mm   image_type  \\\n",
              "0              melanoma         histopathology          NaN  dermoscopic   \n",
              "1  seborrheic keratosis                    NaN          NaN  dermoscopic   \n",
              "2                 nevus         histopathology        False  dermoscopic   \n",
              "3              melanoma         histopathology          NaN  dermoscopic   \n",
              "4     actinic keratosis         histopathology          NaN     clinical   \n",
              "\n",
              "    lesion_id  patient_id personal_hx_mm  pixels_x  pixels_y     sex skin_type  \n",
              "0  IL_8124990  IP_8542863           True       640       480    male        II  \n",
              "1  IL_1921228  IP_9326183           True      2448      2448  female         I  \n",
              "2  IL_3797557  IP_4906546          False       640       480    male        II  \n",
              "3  IL_3556705  IP_5493434           True      1409      2900  female        II  \n",
              "4  IL_2485486  IP_8947694            NaN       498      1026  female        II  "
            ],
            "text/html": [
              "\n",
              "  <div id=\"df-2c397f55-50fa-40c7-b510-b5e0c96b48ff\" class=\"colab-df-container\">\n",
              "    <div>\n",
              "<style scoped>\n",
              "    .dataframe tbody tr th:only-of-type {\n",
              "        vertical-align: middle;\n",
              "    }\n",
              "\n",
              "    .dataframe tbody tr th {\n",
              "        vertical-align: top;\n",
              "    }\n",
              "\n",
              "    .dataframe thead th {\n",
              "        text-align: right;\n",
              "    }\n",
              "</style>\n",
              "<table border=\"1\" class=\"dataframe\">\n",
              "  <thead>\n",
              "    <tr style=\"text-align: right;\">\n",
              "      <th></th>\n",
              "      <th>isic_id</th>\n",
              "      <th>attribution</th>\n",
              "      <th>copyright_license</th>\n",
              "      <th>age_approx</th>\n",
              "      <th>anatom_site_general</th>\n",
              "      <th>benign_malignant</th>\n",
              "      <th>dermoscopic_type</th>\n",
              "      <th>diagnosis</th>\n",
              "      <th>diagnosis_confirm_type</th>\n",
              "      <th>family_hx_mm</th>\n",
              "      <th>image_type</th>\n",
              "      <th>lesion_id</th>\n",
              "      <th>patient_id</th>\n",
              "      <th>personal_hx_mm</th>\n",
              "      <th>pixels_x</th>\n",
              "      <th>pixels_y</th>\n",
              "      <th>sex</th>\n",
              "      <th>skin_type</th>\n",
              "    </tr>\n",
              "  </thead>\n",
              "  <tbody>\n",
              "    <tr>\n",
              "      <th>0</th>\n",
              "      <td>ISIC_6230191</td>\n",
              "      <td>Hospital Italiano de Buenos Aires</td>\n",
              "      <td>CC-BY</td>\n",
              "      <td>25.0</td>\n",
              "      <td>anterior torso</td>\n",
              "      <td>malignant</td>\n",
              "      <td>contact polarized</td>\n",
              "      <td>melanoma</td>\n",
              "      <td>histopathology</td>\n",
              "      <td>NaN</td>\n",
              "      <td>dermoscopic</td>\n",
              "      <td>IL_8124990</td>\n",
              "      <td>IP_8542863</td>\n",
              "      <td>True</td>\n",
              "      <td>640</td>\n",
              "      <td>480</td>\n",
              "      <td>male</td>\n",
              "      <td>II</td>\n",
              "    </tr>\n",
              "    <tr>\n",
              "      <th>1</th>\n",
              "      <td>ISIC_4485929</td>\n",
              "      <td>Hospital Italiano de Buenos Aires</td>\n",
              "      <td>CC-BY</td>\n",
              "      <td>65.0</td>\n",
              "      <td>anterior torso</td>\n",
              "      <td>benign</td>\n",
              "      <td>contact polarized</td>\n",
              "      <td>seborrheic keratosis</td>\n",
              "      <td>NaN</td>\n",
              "      <td>NaN</td>\n",
              "      <td>dermoscopic</td>\n",
              "      <td>IL_1921228</td>\n",
              "      <td>IP_9326183</td>\n",
              "      <td>True</td>\n",
              "      <td>2448</td>\n",
              "      <td>2448</td>\n",
              "      <td>female</td>\n",
              "      <td>I</td>\n",
              "    </tr>\n",
              "    <tr>\n",
              "      <th>2</th>\n",
              "      <td>ISIC_3079785</td>\n",
              "      <td>Hospital Italiano de Buenos Aires</td>\n",
              "      <td>CC-BY</td>\n",
              "      <td>45.0</td>\n",
              "      <td>lower extremity</td>\n",
              "      <td>benign</td>\n",
              "      <td>contact polarized</td>\n",
              "      <td>nevus</td>\n",
              "      <td>histopathology</td>\n",
              "      <td>False</td>\n",
              "      <td>dermoscopic</td>\n",
              "      <td>IL_3797557</td>\n",
              "      <td>IP_4906546</td>\n",
              "      <td>False</td>\n",
              "      <td>640</td>\n",
              "      <td>480</td>\n",
              "      <td>male</td>\n",
              "      <td>II</td>\n",
              "    </tr>\n",
              "    <tr>\n",
              "      <th>3</th>\n",
              "      <td>ISIC_9677008</td>\n",
              "      <td>Hospital Italiano de Buenos Aires</td>\n",
              "      <td>CC-BY</td>\n",
              "      <td>30.0</td>\n",
              "      <td>posterior torso</td>\n",
              "      <td>malignant</td>\n",
              "      <td>contact polarized</td>\n",
              "      <td>melanoma</td>\n",
              "      <td>histopathology</td>\n",
              "      <td>NaN</td>\n",
              "      <td>dermoscopic</td>\n",
              "      <td>IL_3556705</td>\n",
              "      <td>IP_5493434</td>\n",
              "      <td>True</td>\n",
              "      <td>1409</td>\n",
              "      <td>2900</td>\n",
              "      <td>female</td>\n",
              "      <td>II</td>\n",
              "    </tr>\n",
              "    <tr>\n",
              "      <th>4</th>\n",
              "      <td>ISIC_9129115</td>\n",
              "      <td>Hospital Italiano de Buenos Aires</td>\n",
              "      <td>CC-BY</td>\n",
              "      <td>75.0</td>\n",
              "      <td>posterior torso</td>\n",
              "      <td>benign</td>\n",
              "      <td>NaN</td>\n",
              "      <td>actinic keratosis</td>\n",
              "      <td>histopathology</td>\n",
              "      <td>NaN</td>\n",
              "      <td>clinical</td>\n",
              "      <td>IL_2485486</td>\n",
              "      <td>IP_8947694</td>\n",
              "      <td>NaN</td>\n",
              "      <td>498</td>\n",
              "      <td>1026</td>\n",
              "      <td>female</td>\n",
              "      <td>II</td>\n",
              "    </tr>\n",
              "  </tbody>\n",
              "</table>\n",
              "</div>\n",
              "    <div class=\"colab-df-buttons\">\n",
              "\n",
              "  <div class=\"colab-df-container\">\n",
              "    <button class=\"colab-df-convert\" onclick=\"convertToInteractive('df-2c397f55-50fa-40c7-b510-b5e0c96b48ff')\"\n",
              "            title=\"Convert this dataframe to an interactive table.\"\n",
              "            style=\"display:none;\">\n",
              "\n",
              "  <svg xmlns=\"http://www.w3.org/2000/svg\" height=\"24px\" viewBox=\"0 -960 960 960\">\n",
              "    <path d=\"M120-120v-720h720v720H120Zm60-500h600v-160H180v160Zm220 220h160v-160H400v160Zm0 220h160v-160H400v160ZM180-400h160v-160H180v160Zm440 0h160v-160H620v160ZM180-180h160v-160H180v160Zm440 0h160v-160H620v160Z\"/>\n",
              "  </svg>\n",
              "    </button>\n",
              "\n",
              "  <style>\n",
              "    .colab-df-container {\n",
              "      display:flex;\n",
              "      gap: 12px;\n",
              "    }\n",
              "\n",
              "    .colab-df-convert {\n",
              "      background-color: #E8F0FE;\n",
              "      border: none;\n",
              "      border-radius: 50%;\n",
              "      cursor: pointer;\n",
              "      display: none;\n",
              "      fill: #1967D2;\n",
              "      height: 32px;\n",
              "      padding: 0 0 0 0;\n",
              "      width: 32px;\n",
              "    }\n",
              "\n",
              "    .colab-df-convert:hover {\n",
              "      background-color: #E2EBFA;\n",
              "      box-shadow: 0px 1px 2px rgba(60, 64, 67, 0.3), 0px 1px 3px 1px rgba(60, 64, 67, 0.15);\n",
              "      fill: #174EA6;\n",
              "    }\n",
              "\n",
              "    .colab-df-buttons div {\n",
              "      margin-bottom: 4px;\n",
              "    }\n",
              "\n",
              "    [theme=dark] .colab-df-convert {\n",
              "      background-color: #3B4455;\n",
              "      fill: #D2E3FC;\n",
              "    }\n",
              "\n",
              "    [theme=dark] .colab-df-convert:hover {\n",
              "      background-color: #434B5C;\n",
              "      box-shadow: 0px 1px 3px 1px rgba(0, 0, 0, 0.15);\n",
              "      filter: drop-shadow(0px 1px 2px rgba(0, 0, 0, 0.3));\n",
              "      fill: #FFFFFF;\n",
              "    }\n",
              "  </style>\n",
              "\n",
              "    <script>\n",
              "      const buttonEl =\n",
              "        document.querySelector('#df-2c397f55-50fa-40c7-b510-b5e0c96b48ff button.colab-df-convert');\n",
              "      buttonEl.style.display =\n",
              "        google.colab.kernel.accessAllowed ? 'block' : 'none';\n",
              "\n",
              "      async function convertToInteractive(key) {\n",
              "        const element = document.querySelector('#df-2c397f55-50fa-40c7-b510-b5e0c96b48ff');\n",
              "        const dataTable =\n",
              "          await google.colab.kernel.invokeFunction('convertToInteractive',\n",
              "                                                    [key], {});\n",
              "        if (!dataTable) return;\n",
              "\n",
              "        const docLinkHtml = 'Like what you see? Visit the ' +\n",
              "          '<a target=\"_blank\" href=https://colab.research.google.com/notebooks/data_table.ipynb>data table notebook</a>'\n",
              "          + ' to learn more about interactive tables.';\n",
              "        element.innerHTML = '';\n",
              "        dataTable['output_type'] = 'display_data';\n",
              "        await google.colab.output.renderOutput(dataTable, element);\n",
              "        const docLink = document.createElement('div');\n",
              "        docLink.innerHTML = docLinkHtml;\n",
              "        element.appendChild(docLink);\n",
              "      }\n",
              "    </script>\n",
              "  </div>\n",
              "\n",
              "\n",
              "<div id=\"df-a43b2727-de1d-414d-9de0-bc7d137d443b\">\n",
              "  <button class=\"colab-df-quickchart\" onclick=\"quickchart('df-a43b2727-de1d-414d-9de0-bc7d137d443b')\"\n",
              "            title=\"Suggest charts.\"\n",
              "            style=\"display:none;\">\n",
              "\n",
              "<svg xmlns=\"http://www.w3.org/2000/svg\" height=\"24px\"viewBox=\"0 0 24 24\"\n",
              "     width=\"24px\">\n",
              "    <g>\n",
              "        <path d=\"M19 3H5c-1.1 0-2 .9-2 2v14c0 1.1.9 2 2 2h14c1.1 0 2-.9 2-2V5c0-1.1-.9-2-2-2zM9 17H7v-7h2v7zm4 0h-2V7h2v10zm4 0h-2v-4h2v4z\"/>\n",
              "    </g>\n",
              "</svg>\n",
              "  </button>\n",
              "\n",
              "<style>\n",
              "  .colab-df-quickchart {\n",
              "      --bg-color: #E8F0FE;\n",
              "      --fill-color: #1967D2;\n",
              "      --hover-bg-color: #E2EBFA;\n",
              "      --hover-fill-color: #174EA6;\n",
              "      --disabled-fill-color: #AAA;\n",
              "      --disabled-bg-color: #DDD;\n",
              "  }\n",
              "\n",
              "  [theme=dark] .colab-df-quickchart {\n",
              "      --bg-color: #3B4455;\n",
              "      --fill-color: #D2E3FC;\n",
              "      --hover-bg-color: #434B5C;\n",
              "      --hover-fill-color: #FFFFFF;\n",
              "      --disabled-bg-color: #3B4455;\n",
              "      --disabled-fill-color: #666;\n",
              "  }\n",
              "\n",
              "  .colab-df-quickchart {\n",
              "    background-color: var(--bg-color);\n",
              "    border: none;\n",
              "    border-radius: 50%;\n",
              "    cursor: pointer;\n",
              "    display: none;\n",
              "    fill: var(--fill-color);\n",
              "    height: 32px;\n",
              "    padding: 0;\n",
              "    width: 32px;\n",
              "  }\n",
              "\n",
              "  .colab-df-quickchart:hover {\n",
              "    background-color: var(--hover-bg-color);\n",
              "    box-shadow: 0 1px 2px rgba(60, 64, 67, 0.3), 0 1px 3px 1px rgba(60, 64, 67, 0.15);\n",
              "    fill: var(--button-hover-fill-color);\n",
              "  }\n",
              "\n",
              "  .colab-df-quickchart-complete:disabled,\n",
              "  .colab-df-quickchart-complete:disabled:hover {\n",
              "    background-color: var(--disabled-bg-color);\n",
              "    fill: var(--disabled-fill-color);\n",
              "    box-shadow: none;\n",
              "  }\n",
              "\n",
              "  .colab-df-spinner {\n",
              "    border: 2px solid var(--fill-color);\n",
              "    border-color: transparent;\n",
              "    border-bottom-color: var(--fill-color);\n",
              "    animation:\n",
              "      spin 1s steps(1) infinite;\n",
              "  }\n",
              "\n",
              "  @keyframes spin {\n",
              "    0% {\n",
              "      border-color: transparent;\n",
              "      border-bottom-color: var(--fill-color);\n",
              "      border-left-color: var(--fill-color);\n",
              "    }\n",
              "    20% {\n",
              "      border-color: transparent;\n",
              "      border-left-color: var(--fill-color);\n",
              "      border-top-color: var(--fill-color);\n",
              "    }\n",
              "    30% {\n",
              "      border-color: transparent;\n",
              "      border-left-color: var(--fill-color);\n",
              "      border-top-color: var(--fill-color);\n",
              "      border-right-color: var(--fill-color);\n",
              "    }\n",
              "    40% {\n",
              "      border-color: transparent;\n",
              "      border-right-color: var(--fill-color);\n",
              "      border-top-color: var(--fill-color);\n",
              "    }\n",
              "    60% {\n",
              "      border-color: transparent;\n",
              "      border-right-color: var(--fill-color);\n",
              "    }\n",
              "    80% {\n",
              "      border-color: transparent;\n",
              "      border-right-color: var(--fill-color);\n",
              "      border-bottom-color: var(--fill-color);\n",
              "    }\n",
              "    90% {\n",
              "      border-color: transparent;\n",
              "      border-bottom-color: var(--fill-color);\n",
              "    }\n",
              "  }\n",
              "</style>\n",
              "\n",
              "  <script>\n",
              "    async function quickchart(key) {\n",
              "      const quickchartButtonEl =\n",
              "        document.querySelector('#' + key + ' button');\n",
              "      quickchartButtonEl.disabled = true;  // To prevent multiple clicks.\n",
              "      quickchartButtonEl.classList.add('colab-df-spinner');\n",
              "      try {\n",
              "        const charts = await google.colab.kernel.invokeFunction(\n",
              "            'suggestCharts', [key], {});\n",
              "      } catch (error) {\n",
              "        console.error('Error during call to suggestCharts:', error);\n",
              "      }\n",
              "      quickchartButtonEl.classList.remove('colab-df-spinner');\n",
              "      quickchartButtonEl.classList.add('colab-df-quickchart-complete');\n",
              "    }\n",
              "    (() => {\n",
              "      let quickchartButtonEl =\n",
              "        document.querySelector('#df-a43b2727-de1d-414d-9de0-bc7d137d443b button');\n",
              "      quickchartButtonEl.style.display =\n",
              "        google.colab.kernel.accessAllowed ? 'block' : 'none';\n",
              "    })();\n",
              "  </script>\n",
              "</div>\n",
              "    </div>\n",
              "  </div>\n"
            ]
          },
          "metadata": {},
          "execution_count": 24
        }
      ]
    },
    {
      "cell_type": "markdown",
      "source": [
        "###Images"
      ],
      "metadata": {
        "id": "uphKzV4Y2nFX"
      }
    },
    {
      "cell_type": "code",
      "source": [
        "!isic image download --collections $collection_id images/"
      ],
      "metadata": {
        "colab": {
          "base_uri": "https://localhost:8080/"
        },
        "id": "TIAy6etH2nFZ",
        "outputId": "28d504c1-6685-4be3-f174-505972049494"
      },
      "execution_count": 7,
      "outputs": [
        {
          "output_type": "stream",
          "name": "stdout",
          "text": [
            "Psst, you're logged out. Logging in with `isic user login` might return more data.\n",
            "\n",
            "\u001b[2KDownloading images (and metadata) (1,616 total) \u001b[90m━━━━━━━━━━━━━━━━━━━\u001b[0m \u001b[35m100%\u001b[0m \u001b[36m0:00:00\u001b[0m\n",
            "\u001b[?25h\n",
            "\u001b[32mSuccessfully downloaded 1,616 images to images/.\u001b[0m\n",
            "\u001b[32mSuccessfully wrote 1,616 metadata records to images/metadata.csv.\u001b[0m\n",
            "\u001b[32mSuccessfully wrote attributions to images/attribution.txt.\u001b[0m\n",
            "\u001b[32mSuccessfully wrote 1 license(s) to images/licenses.\u001b[0m\n"
          ]
        }
      ]
    },
    {
      "cell_type": "markdown",
      "source": [
        "## Exploratory Data Analysis"
      ],
      "metadata": {
        "id": "dHUF9Yx13LsD"
      }
    },
    {
      "cell_type": "markdown",
      "source": [
        "### Patient, Lesions and Images distribution"
      ],
      "metadata": {
        "id": "mLu297BO4AWW"
      }
    },
    {
      "cell_type": "code",
      "source": [
        "lesions_per_patient = []\n",
        "images_per_patient = []\n",
        "derm_per_patient = []\n",
        "clin_per_patient = []\n",
        "\n",
        "for pat in data.patient_id.unique():\n",
        "  aux = data[data.patient_id==pat]\n",
        "  lesions_per_patient.append(len(aux.lesion_id.unique()))\n",
        "  images_per_patient.append(len(aux))\n",
        "  derm_per_patient.append(len(aux[aux.image_type=='dermoscopic']))\n",
        "  clin_per_patient.append(len(aux[aux.image_type=='clinical']))\n",
        "\n",
        "lesions_per_patient = np.asarray(lesions_per_patient)\n",
        "images_per_patient = np.asarray(images_per_patient)\n",
        "derm_per_patient = np.asarray(derm_per_patient)\n",
        "clin_per_patient = np.asarray(clin_per_patient)"
      ],
      "metadata": {
        "id": "mf52Gb252s4-"
      },
      "execution_count": 25,
      "outputs": []
    },
    {
      "cell_type": "code",
      "source": [
        "print(f'Total patients in the dataset: {len(data.patient_id.unique())}')\n",
        "\n",
        "print(f'\\nTotal unique lesions: {lesions_per_patient.sum()}')\n",
        "print(f'Lesions per patient ---> MIN {lesions_per_patient.min()} | MAX {lesions_per_patient.max()} | MEAN {lesions_per_patient.mean()}| MEDIAN {np.median(lesions_per_patient)}')\n",
        "\n",
        "print(f'\\nTotal unique images: {len(data)}')\n",
        "print(f'Images per patient ---> MIN {images_per_patient.min()} | MAX {images_per_patient.max()} | MEAN {images_per_patient.mean()}| MEDIAN {np.median(images_per_patient)}')\n",
        "\n",
        "print(f'Dermoscopic images per patient ---> MIN {derm_per_patient.min()} | MAX {derm_per_patient.max()} | MEAN {derm_per_patient.mean()}| MEDIAN {np.median(derm_per_patient)}')\n",
        "\n",
        "print(f'Clinical images per patient ---> MIN {clin_per_patient.min()} | MAX {clin_per_patient.max()} | MEAN {clin_per_patient.mean()}| MEDIAN {np.median(clin_per_patient)}')"
      ],
      "metadata": {
        "colab": {
          "base_uri": "https://localhost:8080/"
        },
        "id": "94QxBY3S3kVT",
        "outputId": "4503704d-8491-4a63-d636-4db911331c64"
      },
      "execution_count": 26,
      "outputs": [
        {
          "output_type": "stream",
          "name": "stdout",
          "text": [
            "Total patients in the dataset: 623\n",
            "\n",
            "Total unique lesions: 1246\n",
            "Lesions per patient ---> MIN 1 | MAX 63 | MEAN 2.0| MEDIAN 1.0\n",
            "\n",
            "Total unique images: 1616\n",
            "Images per patient ---> MIN 1 | MAX 63 | MEAN 2.593900481540931| MEDIAN 2.0\n",
            "Dermoscopic images per patient ---> MIN 0 | MAX 63 | MEAN 2.038523274478331| MEDIAN 1.0\n",
            "Clinical images per patient ---> MIN 0 | MAX 8 | MEAN 0.5553772070626003| MEDIAN 0.0\n"
          ]
        }
      ]
    },
    {
      "cell_type": "code",
      "source": [
        "data.image_type.value_counts(dropna=False)\n",
        "\n",
        "ax = sns.barplot(x=data.image_type.value_counts().keys(), y=data.image_type.value_counts().values, data=data, palette=['#FBE8A1', '#FFDCF4'])\n",
        "_ = ax.bar_label(ax.containers[0])"
      ],
      "metadata": {
        "colab": {
          "base_uri": "https://localhost:8080/",
          "height": 430
        },
        "id": "5zYNuzSf3yYK",
        "outputId": "b4573b76-351f-4a77-8a2a-ecefbba84abd"
      },
      "execution_count": 27,
      "outputs": [
        {
          "output_type": "display_data",
          "data": {
            "text/plain": [
              "<Figure size 640x480 with 1 Axes>"
            ],
            "image/png": "[encoded data removed]"
          },
          "metadata": {}
        }
      ]
    },
    {
      "cell_type": "code",
      "source": [
        "images_per_lesion = []\n",
        "derm_per_lesion = []\n",
        "clin_per_lesion = []\n",
        "\n",
        "for pat in data.patient_id.unique():\n",
        "  aux = data[data.patient_id==pat]\n",
        "\n",
        "  for les in aux.lesion_id.unique():\n",
        "    aux2 = aux[aux.lesion_id==les]\n",
        "    images_per_lesion.append(len(aux2))\n",
        "    derm_per_lesion.append(len(aux2[aux2.image_type=='dermoscopic']))\n",
        "    clin_per_lesion.append(len(aux2[aux2.image_type=='clinical']))\n",
        "\n",
        "images_per_lesion = np.asarray(images_per_lesion)\n",
        "derm_per_lesion = np.asarray(derm_per_lesion)\n",
        "clin_per_lesion = np.asarray(clin_per_lesion)"
      ],
      "metadata": {
        "id": "XjERZk-P3yxY"
      },
      "execution_count": 28,
      "outputs": []
    },
    {
      "cell_type": "code",
      "source": [
        "print(f'Total images: {images_per_lesion.sum()}')\n",
        "print(f'Total dermoscopic images: {derm_per_lesion.sum()}')\n",
        "print(f'Total clinical images: {clin_per_lesion.sum()}')\n",
        "print(f'Sum of dermoscopic and clinical images: {derm_per_lesion.sum()+clin_per_lesion.sum()}')"
      ],
      "metadata": {
        "colab": {
          "base_uri": "https://localhost:8080/"
        },
        "id": "_ThA5CW732DT",
        "outputId": "91e1214f-fe11-4b0a-c93e-d62dcab5e649"
      },
      "execution_count": 29,
      "outputs": [
        {
          "output_type": "stream",
          "name": "stdout",
          "text": [
            "Total images: 1616\n",
            "Total dermoscopic images: 1270\n",
            "Total clinical images: 346\n",
            "Sum of dermoscopic and clinical images: 1616\n"
          ]
        }
      ]
    },
    {
      "cell_type": "code",
      "source": [
        "print(f'Images per lesion ---> MIN {images_per_lesion.min()} | MAX {images_per_lesion.max()} | MEAN {images_per_lesion.mean()}| MEDIAN {np.median(images_per_lesion)}')\n",
        "print('Total unique lesions', images_per_lesion.sum())\n",
        "\n",
        "print(f'\\nDermoscopic images per lesion ---> MIN {derm_per_lesion.min()} | MAX {derm_per_lesion.max()} | MEAN {derm_per_lesion.mean()}| MEDIAN {np.median(derm_per_lesion)}')\n",
        "\n",
        "print(f'\\nClinical images per lesion ---> MIN {clin_per_lesion.min()} | MAX {clin_per_lesion.max()} | MEAN {clin_per_lesion.mean()}| MEDIAN {np.median(clin_per_lesion)}')"
      ],
      "metadata": {
        "colab": {
          "base_uri": "https://localhost:8080/"
        },
        "id": "Ap0R0MJB35fG",
        "outputId": "a0fd0bd3-f66f-42c8-a080-29bda34ab82e"
      },
      "execution_count": 30,
      "outputs": [
        {
          "output_type": "stream",
          "name": "stdout",
          "text": [
            "Images per lesion ---> MIN 1 | MAX 6 | MEAN 1.2969502407704654| MEDIAN 1.0\n",
            "Total unique lesions 1616\n",
            "\n",
            "Dermoscopic images per lesion ---> MIN 0 | MAX 5 | MEAN 1.0192616372391654| MEDIAN 1.0\n",
            "\n",
            "Clinical images per lesion ---> MIN 0 | MAX 2 | MEAN 0.27768860353130015| MEDIAN 0.0\n"
          ]
        }
      ]
    },
    {
      "cell_type": "markdown",
      "source": [
        "### Patient characteristics"
      ],
      "metadata": {
        "id": "107xlDXC4B_d"
      }
    },
    {
      "cell_type": "code",
      "source": [
        "patient_data = data[['patient_id','age_approx', 'sex','personal_hx_mm', 'family_hx_mm', 'skin_type']].reset_index(drop=True) #at the time of consultation\n",
        "patient_data.drop_duplicates(['patient_id'],inplace=True)\n",
        "patient_data.reset_index(inplace=True,drop=True)\n",
        "patient_data"
      ],
      "metadata": {
        "colab": {
          "base_uri": "https://localhost:8080/",
          "height": 423
        },
        "id": "EGbNsnUN38Ae",
        "outputId": "2d6b60f0-6438-4752-bf53-4741a863f361"
      },
      "execution_count": 38,
      "outputs": [
        {
          "output_type": "execute_result",
          "data": {
            "text/plain": [
              "     patient_id  age_approx     sex personal_hx_mm family_hx_mm skin_type\n",
              "0    IP_8542863        25.0    male           True          NaN        II\n",
              "1    IP_9326183        65.0  female           True          NaN         I\n",
              "2    IP_4906546        45.0    male          False        False        II\n",
              "3    IP_5493434        30.0  female           True          NaN        II\n",
              "4    IP_8947694        75.0  female            NaN          NaN        II\n",
              "..          ...         ...     ...            ...          ...       ...\n",
              "618  IP_6251525        75.0  female           True        False        II\n",
              "619  IP_4132519        25.0  female          False        False        II\n",
              "620  IP_4513580        75.0  female            NaN          NaN        II\n",
              "621  IP_7048742        55.0  female            NaN          NaN        II\n",
              "622  IP_4577038        65.0    male            NaN          NaN       III\n",
              "\n",
              "[623 rows x 6 columns]"
            ],
            "text/html": [
              "\n",
              "  <div id=\"df-cb81139e-2ff1-4500-ad0a-0e669675ef96\" class=\"colab-df-container\">\n",
              "    <div>\n",
              "<style scoped>\n",
              "    .dataframe tbody tr th:only-of-type {\n",
              "        vertical-align: middle;\n",
              "    }\n",
              "\n",
              "    .dataframe tbody tr th {\n",
              "        vertical-align: top;\n",
              "    }\n",
              "\n",
              "    .dataframe thead th {\n",
              "        text-align: right;\n",
              "    }\n",
              "</style>\n",
              "<table border=\"1\" class=\"dataframe\">\n",
              "  <thead>\n",
              "    <tr style=\"text-align: right;\">\n",
              "      <th></th>\n",
              "      <th>patient_id</th>\n",
              "      <th>age_approx</th>\n",
              "      <th>sex</th>\n",
              "      <th>personal_hx_mm</th>\n",
              "      <th>family_hx_mm</th>\n",
              "      <th>skin_type</th>\n",
              "    </tr>\n",
              "  </thead>\n",
              "  <tbody>\n",
              "    <tr>\n",
              "      <th>0</th>\n",
              "      <td>IP_8542863</td>\n",
              "      <td>25.0</td>\n",
              "      <td>male</td>\n",
              "      <td>True</td>\n",
              "      <td>NaN</td>\n",
              "      <td>II</td>\n",
              "    </tr>\n",
              "    <tr>\n",
              "      <th>1</th>\n",
              "      <td>IP_9326183</td>\n",
              "      <td>65.0</td>\n",
              "      <td>female</td>\n",
              "      <td>True</td>\n",
              "      <td>NaN</td>\n",
              "      <td>I</td>\n",
              "    </tr>\n",
              "    <tr>\n",
              "      <th>2</th>\n",
              "      <td>IP_4906546</td>\n",
              "      <td>45.0</td>\n",
              "      <td>male</td>\n",
              "      <td>False</td>\n",
              "      <td>False</td>\n",
              "      <td>II</td>\n",
              "    </tr>\n",
              "    <tr>\n",
              "      <th>3</th>\n",
              "      <td>IP_5493434</td>\n",
              "      <td>30.0</td>\n",
              "      <td>female</td>\n",
              "      <td>True</td>\n",
              "      <td>NaN</td>\n",
              "      <td>II</td>\n",
              "    </tr>\n",
              "    <tr>\n",
              "      <th>4</th>\n",
              "      <td>IP_8947694</td>\n",
              "      <td>75.0</td>\n",
              "      <td>female</td>\n",
              "      <td>NaN</td>\n",
              "      <td>NaN</td>\n",
              "      <td>II</td>\n",
              "    </tr>\n",
              "    <tr>\n",
              "      <th>...</th>\n",
              "      <td>...</td>\n",
              "      <td>...</td>\n",
              "      <td>...</td>\n",
              "      <td>...</td>\n",
              "      <td>...</td>\n",
              "      <td>...</td>\n",
              "    </tr>\n",
              "    <tr>\n",
              "      <th>618</th>\n",
              "      <td>IP_6251525</td>\n",
              "      <td>75.0</td>\n",
              "      <td>female</td>\n",
              "      <td>True</td>\n",
              "      <td>False</td>\n",
              "      <td>II</td>\n",
              "    </tr>\n",
              "    <tr>\n",
              "      <th>619</th>\n",
              "      <td>IP_4132519</td>\n",
              "      <td>25.0</td>\n",
              "      <td>female</td>\n",
              "      <td>False</td>\n",
              "      <td>False</td>\n",
              "      <td>II</td>\n",
              "    </tr>\n",
              "    <tr>\n",
              "      <th>620</th>\n",
              "      <td>IP_4513580</td>\n",
              "      <td>75.0</td>\n",
              "      <td>female</td>\n",
              "      <td>NaN</td>\n",
              "      <td>NaN</td>\n",
              "      <td>II</td>\n",
              "    </tr>\n",
              "    <tr>\n",
              "      <th>621</th>\n",
              "      <td>IP_7048742</td>\n",
              "      <td>55.0</td>\n",
              "      <td>female</td>\n",
              "      <td>NaN</td>\n",
              "      <td>NaN</td>\n",
              "      <td>II</td>\n",
              "    </tr>\n",
              "    <tr>\n",
              "      <th>622</th>\n",
              "      <td>IP_4577038</td>\n",
              "      <td>65.0</td>\n",
              "      <td>male</td>\n",
              "      <td>NaN</td>\n",
              "      <td>NaN</td>\n",
              "      <td>III</td>\n",
              "    </tr>\n",
              "  </tbody>\n",
              "</table>\n",
              "<p>623 rows × 6 columns</p>\n",
              "</div>\n",
              "    <div class=\"colab-df-buttons\">\n",
              "\n",
              "  <div class=\"colab-df-container\">\n",
              "    <button class=\"colab-df-convert\" onclick=\"convertToInteractive('df-cb81139e-2ff1-4500-ad0a-0e669675ef96')\"\n",
              "            title=\"Convert this dataframe to an interactive table.\"\n",
              "            style=\"display:none;\">\n",
              "\n",
              "  <svg xmlns=\"http://www.w3.org/2000/svg\" height=\"24px\" viewBox=\"0 -960 960 960\">\n",
              "    <path d=\"M120-120v-720h720v720H120Zm60-500h600v-160H180v160Zm220 220h160v-160H400v160Zm0 220h160v-160H400v160ZM180-400h160v-160H180v160Zm440 0h160v-160H620v160ZM180-180h160v-160H180v160Zm440 0h160v-160H620v160Z\"/>\n",
              "  </svg>\n",
              "    </button>\n",
              "\n",
              "  <style>\n",
              "    .colab-df-container {\n",
              "      display:flex;\n",
              "      gap: 12px;\n",
              "    }\n",
              "\n",
              "    .colab-df-convert {\n",
              "      background-color: #E8F0FE;\n",
              "      border: none;\n",
              "      border-radius: 50%;\n",
              "      cursor: pointer;\n",
              "      display: none;\n",
              "      fill: #1967D2;\n",
              "      height: 32px;\n",
              "      padding: 0 0 0 0;\n",
              "      width: 32px;\n",
              "    }\n",
              "\n",
              "    .colab-df-convert:hover {\n",
              "      background-color: #E2EBFA;\n",
              "      box-shadow: 0px 1px 2px rgba(60, 64, 67, 0.3), 0px 1px 3px 1px rgba(60, 64, 67, 0.15);\n",
              "      fill: #174EA6;\n",
              "    }\n",
              "\n",
              "    .colab-df-buttons div {\n",
              "      margin-bottom: 4px;\n",
              "    }\n",
              "\n",
              "    [theme=dark] .colab-df-convert {\n",
              "      background-color: #3B4455;\n",
              "      fill: #D2E3FC;\n",
              "    }\n",
              "\n",
              "    [theme=dark] .colab-df-convert:hover {\n",
              "      background-color: #434B5C;\n",
              "      box-shadow: 0px 1px 3px 1px rgba(0, 0, 0, 0.15);\n",
              "      filter: drop-shadow(0px 1px 2px rgba(0, 0, 0, 0.3));\n",
              "      fill: #FFFFFF;\n",
              "    }\n",
              "  </style>\n",
              "\n",
              "    <script>\n",
              "      const buttonEl =\n",
              "        document.querySelector('#df-cb81139e-2ff1-4500-ad0a-0e669675ef96 button.colab-df-convert');\n",
              "      buttonEl.style.display =\n",
              "        google.colab.kernel.accessAllowed ? 'block' : 'none';\n",
              "\n",
              "      async function convertToInteractive(key) {\n",
              "        const element = document.querySelector('#df-cb81139e-2ff1-4500-ad0a-0e669675ef96');\n",
              "        const dataTable =\n",
              "          await google.colab.kernel.invokeFunction('convertToInteractive',\n",
              "                                                    [key], {});\n",
              "        if (!dataTable) return;\n",
              "\n",
              "        const docLinkHtml = 'Like what you see? Visit the ' +\n",
              "          '<a target=\"_blank\" href=https://colab.research.google.com/notebooks/data_table.ipynb>data table notebook</a>'\n",
              "          + ' to learn more about interactive tables.';\n",
              "        element.innerHTML = '';\n",
              "        dataTable['output_type'] = 'display_data';\n",
              "        await google.colab.output.renderOutput(dataTable, element);\n",
              "        const docLink = document.createElement('div');\n",
              "        docLink.innerHTML = docLinkHtml;\n",
              "        element.appendChild(docLink);\n",
              "      }\n",
              "    </script>\n",
              "  </div>\n",
              "\n",
              "\n",
              "<div id=\"df-c3bb5b4a-9f2e-4ff4-935d-23c763f091a8\">\n",
              "  <button class=\"colab-df-quickchart\" onclick=\"quickchart('df-c3bb5b4a-9f2e-4ff4-935d-23c763f091a8')\"\n",
              "            title=\"Suggest charts.\"\n",
              "            style=\"display:none;\">\n",
              "\n",
              "<svg xmlns=\"http://www.w3.org/2000/svg\" height=\"24px\"viewBox=\"0 0 24 24\"\n",
              "     width=\"24px\">\n",
              "    <g>\n",
              "        <path d=\"M19 3H5c-1.1 0-2 .9-2 2v14c0 1.1.9 2 2 2h14c1.1 0 2-.9 2-2V5c0-1.1-.9-2-2-2zM9 17H7v-7h2v7zm4 0h-2V7h2v10zm4 0h-2v-4h2v4z\"/>\n",
              "    </g>\n",
              "</svg>\n",
              "  </button>\n",
              "\n",
              "<style>\n",
              "  .colab-df-quickchart {\n",
              "      --bg-color: #E8F0FE;\n",
              "      --fill-color: #1967D2;\n",
              "      --hover-bg-color: #E2EBFA;\n",
              "      --hover-fill-color: #174EA6;\n",
              "      --disabled-fill-color: #AAA;\n",
              "      --disabled-bg-color: #DDD;\n",
              "  }\n",
              "\n",
              "  [theme=dark] .colab-df-quickchart {\n",
              "      --bg-color: #3B4455;\n",
              "      --fill-color: #D2E3FC;\n",
              "      --hover-bg-color: #434B5C;\n",
              "      --hover-fill-color: #FFFFFF;\n",
              "      --disabled-bg-color: #3B4455;\n",
              "      --disabled-fill-color: #666;\n",
              "  }\n",
              "\n",
              "  .colab-df-quickchart {\n",
              "    background-color: var(--bg-color);\n",
              "    border: none;\n",
              "    border-radius: 50%;\n",
              "    cursor: pointer;\n",
              "    display: none;\n",
              "    fill: var(--fill-color);\n",
              "    height: 32px;\n",
              "    padding: 0;\n",
              "    width: 32px;\n",
              "  }\n",
              "\n",
              "  .colab-df-quickchart:hover {\n",
              "    background-color: var(--hover-bg-color);\n",
              "    box-shadow: 0 1px 2px rgba(60, 64, 67, 0.3), 0 1px 3px 1px rgba(60, 64, 67, 0.15);\n",
              "    fill: var(--button-hover-fill-color);\n",
              "  }\n",
              "\n",
              "  .colab-df-quickchart-complete:disabled,\n",
              "  .colab-df-quickchart-complete:disabled:hover {\n",
              "    background-color: var(--disabled-bg-color);\n",
              "    fill: var(--disabled-fill-color);\n",
              "    box-shadow: none;\n",
              "  }\n",
              "\n",
              "  .colab-df-spinner {\n",
              "    border: 2px solid var(--fill-color);\n",
              "    border-color: transparent;\n",
              "    border-bottom-color: var(--fill-color);\n",
              "    animation:\n",
              "      spin 1s steps(1) infinite;\n",
              "  }\n",
              "\n",
              "  @keyframes spin {\n",
              "    0% {\n",
              "      border-color: transparent;\n",
              "      border-bottom-color: var(--fill-color);\n",
              "      border-left-color: var(--fill-color);\n",
              "    }\n",
              "    20% {\n",
              "      border-color: transparent;\n",
              "      border-left-color: var(--fill-color);\n",
              "      border-top-color: var(--fill-color);\n",
              "    }\n",
              "    30% {\n",
              "      border-color: transparent;\n",
              "      border-left-color: var(--fill-color);\n",
              "      border-top-color: var(--fill-color);\n",
              "      border-right-color: var(--fill-color);\n",
              "    }\n",
              "    40% {\n",
              "      border-color: transparent;\n",
              "      border-right-color: var(--fill-color);\n",
              "      border-top-color: var(--fill-color);\n",
              "    }\n",
              "    60% {\n",
              "      border-color: transparent;\n",
              "      border-right-color: var(--fill-color);\n",
              "    }\n",
              "    80% {\n",
              "      border-color: transparent;\n",
              "      border-right-color: var(--fill-color);\n",
              "      border-bottom-color: var(--fill-color);\n",
              "    }\n",
              "    90% {\n",
              "      border-color: transparent;\n",
              "      border-bottom-color: var(--fill-color);\n",
              "    }\n",
              "  }\n",
              "</style>\n",
              "\n",
              "  <script>\n",
              "    async function quickchart(key) {\n",
              "      const quickchartButtonEl =\n",
              "        document.querySelector('#' + key + ' button');\n",
              "      quickchartButtonEl.disabled = true;  // To prevent multiple clicks.\n",
              "      quickchartButtonEl.classList.add('colab-df-spinner');\n",
              "      try {\n",
              "        const charts = await google.colab.kernel.invokeFunction(\n",
              "            'suggestCharts', [key], {});\n",
              "      } catch (error) {\n",
              "        console.error('Error during call to suggestCharts:', error);\n",
              "      }\n",
              "      quickchartButtonEl.classList.remove('colab-df-spinner');\n",
              "      quickchartButtonEl.classList.add('colab-df-quickchart-complete');\n",
              "    }\n",
              "    (() => {\n",
              "      let quickchartButtonEl =\n",
              "        document.querySelector('#df-c3bb5b4a-9f2e-4ff4-935d-23c763f091a8 button');\n",
              "      quickchartButtonEl.style.display =\n",
              "        google.colab.kernel.accessAllowed ? 'block' : 'none';\n",
              "    })();\n",
              "  </script>\n",
              "</div>\n",
              "    </div>\n",
              "  </div>\n"
            ]
          },
          "metadata": {},
          "execution_count": 38
        }
      ]
    },
    {
      "cell_type": "markdown",
      "source": [
        "####Age"
      ],
      "metadata": {
        "id": "49RQUoAw4PbM"
      }
    },
    {
      "cell_type": "code",
      "source": [
        "patient_data.age_approx = patient_data.age_approx.replace('', np.nan)\n",
        "patient_data.age_approx = patient_data.age_approx.astype('float')\n",
        "\n",
        "pvc = patient_data.age_approx.value_counts(dropna=False)\n",
        "print('Patient/s without age_approx informed: ', pvc[np.nan])\n",
        "print('Corresponding %: ', (pvc[np.nan]/len(patient_data)*100))\n",
        "\n",
        "print(f'\\nPatients age ---> MIN {patient_data.age_approx.min()} | MAX {patient_data.age_approx.max()} | MEAN {patient_data.age_approx.mean()} | SD {patient_data.age_approx.std()}')\n",
        "\n",
        "\n",
        "_ = sns.histplot(patient_data.age_approx, color='#B7FAD7')"
      ],
      "metadata": {
        "colab": {
          "base_uri": "https://localhost:8080/",
          "height": 519
        },
        "id": "3wIzjV5b4GVy",
        "outputId": "55e2878e-55e7-4d87-cc96-a1fc3617a5d2"
      },
      "execution_count": 32,
      "outputs": [
        {
          "output_type": "stream",
          "name": "stdout",
          "text": [
            "Patient/s without age_approx informed:  5\n",
            "Corresponding %:  0.8025682182985553\n",
            "\n",
            "Patients age ---> MIN 20.0 | MAX 85.0 | MEAN 62.127831715210355 | SD 17.34981404738759\n"
          ]
        },
        {
          "output_type": "display_data",
          "data": {
            "text/plain": [
              "<Figure size 640x480 with 1 Axes>"
            ],
            "image/png": "[encoded data removed]"
          },
          "metadata": {}
        }
      ]
    },
    {
      "cell_type": "code",
      "source": [
        "female_px = patient_data[patient_data.sex=='female']\n",
        "male_px = patient_data[patient_data.sex=='male']\n",
        "_ = sns.histplot(female_px.age_approx, color='#FABCB7', label='female')\n",
        "_ = sns.histplot(male_px.age_approx, color='#B7D5FA', label='male')\n",
        "_ = plt.legend()"
      ],
      "metadata": {
        "colab": {
          "base_uri": "https://localhost:8080/",
          "height": 449
        },
        "id": "3f1ZBdMr4flJ",
        "outputId": "a7ddb8c3-15e3-451a-8247-248692e8c8f8"
      },
      "execution_count": 33,
      "outputs": [
        {
          "output_type": "display_data",
          "data": {
            "text/plain": [
              "<Figure size 640x480 with 1 Axes>"
            ],
            "image/png": "[encoded data removed]"
          },
          "metadata": {}
        }
      ]
    },
    {
      "cell_type": "markdown",
      "source": [
        "####Sex"
      ],
      "metadata": {
        "id": "ca4UIAhH40wG"
      }
    },
    {
      "cell_type": "code",
      "source": [
        "patient_data.sex = patient_data.sex.replace('', np.nan)\n",
        "pvc = patient_data.sex.value_counts(dropna=False)\n",
        "print('Patient/s without sex informed: ', pvc[np.nan])\n",
        "print('Corresponding %: ', (pvc[np.nan]/len(patient_data)*100) )\n",
        "\n",
        "print('\\nTotal female patients: ', len(female_px))\n",
        "print('Total male patients: ', len(male_px))\n",
        "print('Total patients: ', len(female_px)+len(male_px)+pvc[np.nan])"
      ],
      "metadata": {
        "colab": {
          "base_uri": "https://localhost:8080/"
        },
        "id": "NB4Qx8Cz4w7j",
        "outputId": "65a5b7c8-b7d0-4e92-f1d5-70def8ec6cf5"
      },
      "execution_count": 34,
      "outputs": [
        {
          "output_type": "stream",
          "name": "stdout",
          "text": [
            "Patient/s without sex informed:  2\n",
            "Corresponding %:  0.32102728731942215\n",
            "\n",
            "Total female patients:  339\n",
            "Total male patients:  282\n",
            "Total patients:  623\n"
          ]
        }
      ]
    },
    {
      "cell_type": "code",
      "source": [
        "ax = sns.barplot(x=patient_data.sex.value_counts(dropna=False).keys(), y=patient_data.sex.value_counts(dropna=False).values, data=patient_data, palette=['#FABCB7', '#B7D5FA'])\n",
        "_ = ax.bar_label(ax.containers[0])"
      ],
      "metadata": {
        "colab": {
          "base_uri": "https://localhost:8080/",
          "height": 430
        },
        "id": "UK2FNTK142o2",
        "outputId": "7a087461-a9d5-469b-8b9d-800635930a72"
      },
      "execution_count": 35,
      "outputs": [
        {
          "output_type": "display_data",
          "data": {
            "text/plain": [
              "<Figure size 640x480 with 1 Axes>"
            ],
            "image/png": "[encoded data removed]"
          },
          "metadata": {}
        }
      ]
    },
    {
      "cell_type": "markdown",
      "source": [
        "####Skin tone"
      ],
      "metadata": {
        "id": "uM-PfxgWzlt0"
      }
    },
    {
      "cell_type": "code",
      "source": [
        "pvc = patient_data.skin_type.value_counts(dropna=False)\n",
        "\n",
        "print('Image/s with skin type informed: ', data.skin_type.value_counts().sum())\n",
        "print('Corresponding %: ', (data.skin_type.value_counts().sum()/len(data)*100) )\n",
        "\n",
        "print('\\nImage/s without skin type informed: ', data.skin_type.value_counts(dropna=False)[np.nan])\n",
        "print('Corresponding %: ', (data.skin_type.value_counts(dropna=False)[np.nan]/len(data)*100) )\n"
      ],
      "metadata": {
        "colab": {
          "base_uri": "https://localhost:8080/"
        },
        "id": "a0GNgA1T1awG",
        "outputId": "10ee5a9b-0f58-4344-ec5e-ad89e70dd262"
      },
      "execution_count": 48,
      "outputs": [
        {
          "output_type": "stream",
          "name": "stdout",
          "text": [
            "Image/s with skin type informed:  1499\n",
            "Corresponding %:  92.75990099009901\n",
            "\n",
            "Image/s without skin type informed:  117\n",
            "Corresponding %:  7.240099009900989\n"
          ]
        }
      ]
    },
    {
      "cell_type": "code",
      "source": [
        "pvc = patient_data.skin_type.value_counts(dropna=False)\n",
        "\n",
        "print('Patient/s with skin type informed: ', patient_data.skin_type.value_counts().sum())\n",
        "print('Corresponding %: ', (patient_data.skin_type.value_counts().sum()/len(patient_data)*100) )\n",
        "\n",
        "print('\\nPatient/s without skin type informed: ', pvc[np.nan])\n",
        "print('Corresponding %: ', (pvc[np.nan]/len(patient_data)*100) )\n"
      ],
      "metadata": {
        "colab": {
          "base_uri": "https://localhost:8080/"
        },
        "id": "ZnlKEJbL0h3A",
        "outputId": "21bd87cd-a23e-40bc-aaed-5dd32eebe97d"
      },
      "execution_count": 44,
      "outputs": [
        {
          "output_type": "stream",
          "name": "stdout",
          "text": [
            "Patient/s with skin type informed:  566\n",
            "Corresponding %:  90.85072231139647\n",
            "\n",
            "Patient/s without skin type informed:  57\n",
            "Corresponding %:  9.149277688603531\n"
          ]
        }
      ]
    },
    {
      "cell_type": "code",
      "source": [
        "ax = sns.barplot(x=patient_data.skin_type.value_counts(dropna=False).keys(), y=patient_data.skin_type.value_counts(dropna=False).values, data=patient_data, palette='pastel', order=['I','II', 'III', 'IV', 'V', 'VI'])\n",
        "_ = ax.bar_label(ax.containers[0])"
      ],
      "metadata": {
        "colab": {
          "base_uri": "https://localhost:8080/",
          "height": 430
        },
        "id": "ArzI0rSK04qz",
        "outputId": "85899a03-015d-416e-e460-48ca3919f2b4"
      },
      "execution_count": 43,
      "outputs": [
        {
          "output_type": "display_data",
          "data": {
            "text/plain": [
              "<Figure size 640x480 with 1 Axes>"
            ],
            "image/png": "[encoded data removed]"
          },
          "metadata": {}
        }
      ]
    },
    {
      "cell_type": "markdown",
      "source": [
        "####Personal and Familiy History of Melanoma\n",
        "\n",
        "Possible combinations PERSONAL_HISTORY - FAMILIY_HISTORY\n",
        "\n",
        "* Unk-Unk\n",
        "* Unk-True\n",
        "* Unk-False\n",
        "* True-Unk\n",
        "* False-Unk\n",
        "* True-True\n",
        "* True-False\n",
        "* False-False\n",
        "* False-True"
      ],
      "metadata": {
        "id": "A623vIZj5Rnf"
      }
    },
    {
      "cell_type": "code",
      "source": [
        "print('Personal History of Melanoma\\n')\n",
        "patient_data.personal_hx_mm = patient_data.personal_hx_mm.replace('', np.nan)\n",
        "patient_data.personal_hx_mm.value_counts(dropna=False)"
      ],
      "metadata": {
        "colab": {
          "base_uri": "https://localhost:8080/"
        },
        "id": "KvErcgCf47Ni",
        "outputId": "9216986b-25ab-45ba-af28-728ce7706929"
      },
      "execution_count": null,
      "outputs": [
        {
          "output_type": "stream",
          "name": "stdout",
          "text": [
            "Personal History of Melanoma\n",
            "\n"
          ]
        },
        {
          "output_type": "execute_result",
          "data": {
            "text/plain": [
              "NaN      339\n",
              "True     150\n",
              "False    134\n",
              "Name: personal_hx_mm, dtype: int64"
            ]
          },
          "metadata": {},
          "execution_count": 56
        }
      ]
    },
    {
      "cell_type": "code",
      "source": [
        "print('Family History of Melanoma\\n')\n",
        "patient_data.family_hx_mm = patient_data.family_hx_mm.replace('', np.nan)\n",
        "patient_data.family_hx_mm.value_counts(dropna=False)"
      ],
      "metadata": {
        "colab": {
          "base_uri": "https://localhost:8080/"
        },
        "id": "3X7jea-m5kPI",
        "outputId": "78e857f6-3863-4e90-d5df-c8595bc426ce"
      },
      "execution_count": null,
      "outputs": [
        {
          "output_type": "stream",
          "name": "stdout",
          "text": [
            "Family History of Melanoma\n",
            "\n"
          ]
        },
        {
          "output_type": "execute_result",
          "data": {
            "text/plain": [
              "NaN      386\n",
              "False    206\n",
              "True      31\n",
              "Name: family_hx_mm, dtype: int64"
            ]
          },
          "metadata": {},
          "execution_count": 57
        }
      ]
    },
    {
      "cell_type": "code",
      "source": [
        "print('Different combination of Personal and Family History of Melanoma\\n')\n",
        "unk_unk = patient_data[(patient_data.personal_hx_mm.isnull()) & (patient_data.family_hx_mm.isnull())]\n",
        "print('> Unkown - Unknown  ', len(unk_unk))\n",
        "\n",
        "unk_true = patient_data[(patient_data.personal_hx_mm.isnull()) & (patient_data.family_hx_mm==True)]\n",
        "print('> Unkown - True     ', len(unk_true))\n",
        "\n",
        "unk_false = patient_data[(patient_data.personal_hx_mm.isnull()) & (patient_data.family_hx_mm==False)]\n",
        "print('> Unkown - False    ', len(unk_false))\n",
        "\n",
        "true_unk = patient_data[(patient_data.personal_hx_mm==True) & (patient_data.family_hx_mm.isnull())]\n",
        "print('> True - Unknown    ', len(true_unk))\n",
        "\n",
        "false_unk = patient_data[(patient_data.personal_hx_mm==False) & (patient_data.family_hx_mm.isnull())]\n",
        "print('> False - Unknown   ', len(false_unk))\n",
        "\n",
        "true_true = patient_data[(patient_data.personal_hx_mm==True) & (patient_data.family_hx_mm==True)]\n",
        "print('> True - True       ', len(true_true))\n",
        "\n",
        "true_false = patient_data[(patient_data.personal_hx_mm==True) & (patient_data.family_hx_mm==False)]\n",
        "print('> True - False      ', len(true_false))\n",
        "\n",
        "false_false = patient_data[(patient_data.personal_hx_mm==False) & (patient_data.family_hx_mm==False)]\n",
        "print('> False - False     ', len(false_false))\n",
        "\n",
        "false_true = patient_data[(patient_data.personal_hx_mm==False) & (patient_data.family_hx_mm==True)]\n",
        "print('> False - True      ', len(false_true))"
      ],
      "metadata": {
        "colab": {
          "base_uri": "https://localhost:8080/"
        },
        "id": "g7FJf0go5ndw",
        "outputId": "f3cf4e3b-398a-4348-8083-9a45cc17bbc4"
      },
      "execution_count": null,
      "outputs": [
        {
          "output_type": "stream",
          "name": "stdout",
          "text": [
            "Different combination of Personal and Family History of Melanoma\n",
            "\n",
            "> Unkown - Unknown   333\n",
            "> Unkown - True      6\n",
            "> Unkown - False     0\n",
            "> True - Unknown     48\n",
            "> False - Unknown    5\n",
            "> True - True        7\n",
            "> True - False       95\n",
            "> False - False      111\n",
            "> False - True       18\n"
          ]
        }
      ]
    },
    {
      "cell_type": "code",
      "source": [
        "total_px = len(patient_data)\n",
        "least_one_unk = len(unk_unk)+len(unk_true)+len(unk_false)+len(true_unk)+len(false_unk)\n",
        "\n",
        "print(f'At least one history record is unknown: {(least_one_unk/total_px)*100} %')"
      ],
      "metadata": {
        "id": "L82b_zdJ5qNt",
        "colab": {
          "base_uri": "https://localhost:8080/"
        },
        "outputId": "a2fdfe79-d268-4a7f-a064-49ed5e9312b0"
      },
      "execution_count": null,
      "outputs": [
        {
          "output_type": "stream",
          "name": "stdout",
          "text": [
            "At least one history record is unknown: 62.92134831460674 %\n"
          ]
        }
      ]
    },
    {
      "cell_type": "code",
      "source": [
        "unk_unk = patient_data[(patient_data.personal_hx_mm.isnull()) & (patient_data.family_hx_mm.isnull())]\n",
        "print(f'Unknown personal and family history of MM:  {len(unk_unk)} - {(len(unk_unk)/total_px)*100} %')\n",
        "\n",
        "pvc = patient_data.personal_hx_mm.value_counts(dropna=False)\n",
        "print(f'\\nPersonal history of MM: \\n  {(pvc[np.nan]/total_px)*100} % unknown \\n  {(pvc[True]/total_px)*100} % yes \\n  {(pvc[False]/total_px)*100} % no')\n",
        "\n",
        "pvc = patient_data.family_hx_mm.value_counts(dropna=False)\n",
        "print(f'\\nFamily history of MM: \\n  {(pvc[np.nan]/total_px)*100} % unknown \\n  {(pvc[True]/total_px)*100} % yes \\n  {(pvc[False]/total_px)*100} % no')\n",
        "\n",
        "false_false_p = patient_data[(patient_data.personal_hx_mm==False) & (patient_data.family_hx_mm==False)]\n",
        "print(f'\\nNegative personal and family history of MM {(len(false_false_p)/total_px)*100} %')\n",
        "\n",
        "true_true_p = patient_data[(patient_data.personal_hx_mm==True) & (patient_data.family_hx_mm==True)]\n",
        "print(f'\\nPositive personal and family history of MM {(len(true_true_p)/total_px)*100} %')"
      ],
      "metadata": {
        "colab": {
          "base_uri": "https://localhost:8080/"
        },
        "id": "TEga7vfG7Dch",
        "outputId": "96db57d2-d1bf-49cb-a2ec-3f3bb266f774"
      },
      "execution_count": null,
      "outputs": [
        {
          "output_type": "stream",
          "name": "stdout",
          "text": [
            "Unknown personal and family history of MM:  333 - 53.45104333868379 %\n",
            "\n",
            "Personal history of MM: \n",
            "  54.41412520064205 % unknown \n",
            "  24.077046548956663 % yes \n",
            "  21.508828250401287 % no\n",
            "\n",
            "Family history of MM: \n",
            "  61.95826645264848 % unknown \n",
            "  4.975922953451043 % yes \n",
            "  33.06581059390048 % no\n",
            "\n",
            "Negative personal and family history of MM 17.81701444622793 %\n",
            "\n",
            "Positive personal and family history of MM 1.1235955056179776 %\n"
          ]
        }
      ]
    },
    {
      "cell_type": "markdown",
      "source": [
        "###Lesion characteristics"
      ],
      "metadata": {
        "id": "rZzGNigl7yTy"
      }
    },
    {
      "cell_type": "code",
      "source": [
        "lesion_data = data[['patient_id','lesion_id','benign_malignant', 'diagnosis','diagnosis_confirm_type', 'anatom_site_general']]\n",
        "lesion_data.head()"
      ],
      "metadata": {
        "colab": {
          "base_uri": "https://localhost:8080/",
          "height": 206
        },
        "id": "GagyLekC7sb1",
        "outputId": "56c02b3d-44f5-42db-975e-c02a51e2909b"
      },
      "execution_count": null,
      "outputs": [
        {
          "output_type": "execute_result",
          "data": {
            "text/plain": [
              "   patient_id   lesion_id benign_malignant             diagnosis  \\\n",
              "0  IP_8542863  IL_8124990        malignant              melanoma   \n",
              "1  IP_9326183  IL_1921228           benign  seborrheic keratosis   \n",
              "2  IP_4906546  IL_3797557           benign                 nevus   \n",
              "3  IP_5493434  IL_3556705        malignant              melanoma   \n",
              "4  IP_8947694  IL_2485486           benign     actinic keratosis   \n",
              "\n",
              "  diagnosis_confirm_type anatom_site_general  \n",
              "0         histopathology      anterior torso  \n",
              "1                    NaN      anterior torso  \n",
              "2         histopathology     lower extremity  \n",
              "3         histopathology     posterior torso  \n",
              "4         histopathology     posterior torso  "
            ],
            "text/html": [
              "\n",
              "  <div id=\"df-e9dbb874-36f5-4e0e-b688-54165fde2369\" class=\"colab-df-container\">\n",
              "    <div>\n",
              "<style scoped>\n",
              "    .dataframe tbody tr th:only-of-type {\n",
              "        vertical-align: middle;\n",
              "    }\n",
              "\n",
              "    .dataframe tbody tr th {\n",
              "        vertical-align: top;\n",
              "    }\n",
              "\n",
              "    .dataframe thead th {\n",
              "        text-align: right;\n",
              "    }\n",
              "</style>\n",
              "<table border=\"1\" class=\"dataframe\">\n",
              "  <thead>\n",
              "    <tr style=\"text-align: right;\">\n",
              "      <th></th>\n",
              "      <th>patient_id</th>\n",
              "      <th>lesion_id</th>\n",
              "      <th>benign_malignant</th>\n",
              "      <th>diagnosis</th>\n",
              "      <th>diagnosis_confirm_type</th>\n",
              "      <th>anatom_site_general</th>\n",
              "    </tr>\n",
              "  </thead>\n",
              "  <tbody>\n",
              "    <tr>\n",
              "      <th>0</th>\n",
              "      <td>IP_8542863</td>\n",
              "      <td>IL_8124990</td>\n",
              "      <td>malignant</td>\n",
              "      <td>melanoma</td>\n",
              "      <td>histopathology</td>\n",
              "      <td>anterior torso</td>\n",
              "    </tr>\n",
              "    <tr>\n",
              "      <th>1</th>\n",
              "      <td>IP_9326183</td>\n",
              "      <td>IL_1921228</td>\n",
              "      <td>benign</td>\n",
              "      <td>seborrheic keratosis</td>\n",
              "      <td>NaN</td>\n",
              "      <td>anterior torso</td>\n",
              "    </tr>\n",
              "    <tr>\n",
              "      <th>2</th>\n",
              "      <td>IP_4906546</td>\n",
              "      <td>IL_3797557</td>\n",
              "      <td>benign</td>\n",
              "      <td>nevus</td>\n",
              "      <td>histopathology</td>\n",
              "      <td>lower extremity</td>\n",
              "    </tr>\n",
              "    <tr>\n",
              "      <th>3</th>\n",
              "      <td>IP_5493434</td>\n",
              "      <td>IL_3556705</td>\n",
              "      <td>malignant</td>\n",
              "      <td>melanoma</td>\n",
              "      <td>histopathology</td>\n",
              "      <td>posterior torso</td>\n",
              "    </tr>\n",
              "    <tr>\n",
              "      <th>4</th>\n",
              "      <td>IP_8947694</td>\n",
              "      <td>IL_2485486</td>\n",
              "      <td>benign</td>\n",
              "      <td>actinic keratosis</td>\n",
              "      <td>histopathology</td>\n",
              "      <td>posterior torso</td>\n",
              "    </tr>\n",
              "  </tbody>\n",
              "</table>\n",
              "</div>\n",
              "    <div class=\"colab-df-buttons\">\n",
              "\n",
              "  <div class=\"colab-df-container\">\n",
              "    <button class=\"colab-df-convert\" onclick=\"convertToInteractive('df-e9dbb874-36f5-4e0e-b688-54165fde2369')\"\n",
              "            title=\"Convert this dataframe to an interactive table.\"\n",
              "            style=\"display:none;\">\n",
              "\n",
              "  <svg xmlns=\"http://www.w3.org/2000/svg\" height=\"24px\" viewBox=\"0 -960 960 960\">\n",
              "    <path d=\"M120-120v-720h720v720H120Zm60-500h600v-160H180v160Zm220 220h160v-160H400v160Zm0 220h160v-160H400v160ZM180-400h160v-160H180v160Zm440 0h160v-160H620v160ZM180-180h160v-160H180v160Zm440 0h160v-160H620v160Z\"/>\n",
              "  </svg>\n",
              "    </button>\n",
              "\n",
              "  <style>\n",
              "    .colab-df-container {\n",
              "      display:flex;\n",
              "      gap: 12px;\n",
              "    }\n",
              "\n",
              "    .colab-df-convert {\n",
              "      background-color: #E8F0FE;\n",
              "      border: none;\n",
              "      border-radius: 50%;\n",
              "      cursor: pointer;\n",
              "      display: none;\n",
              "      fill: #1967D2;\n",
              "      height: 32px;\n",
              "      padding: 0 0 0 0;\n",
              "      width: 32px;\n",
              "    }\n",
              "\n",
              "    .colab-df-convert:hover {\n",
              "      background-color: #E2EBFA;\n",
              "      box-shadow: 0px 1px 2px rgba(60, 64, 67, 0.3), 0px 1px 3px 1px rgba(60, 64, 67, 0.15);\n",
              "      fill: #174EA6;\n",
              "    }\n",
              "\n",
              "    .colab-df-buttons div {\n",
              "      margin-bottom: 4px;\n",
              "    }\n",
              "\n",
              "    [theme=dark] .colab-df-convert {\n",
              "      background-color: #3B4455;\n",
              "      fill: #D2E3FC;\n",
              "    }\n",
              "\n",
              "    [theme=dark] .colab-df-convert:hover {\n",
              "      background-color: #434B5C;\n",
              "      box-shadow: 0px 1px 3px 1px rgba(0, 0, 0, 0.15);\n",
              "      filter: drop-shadow(0px 1px 2px rgba(0, 0, 0, 0.3));\n",
              "      fill: #FFFFFF;\n",
              "    }\n",
              "  </style>\n",
              "\n",
              "    <script>\n",
              "      const buttonEl =\n",
              "        document.querySelector('#df-e9dbb874-36f5-4e0e-b688-54165fde2369 button.colab-df-convert');\n",
              "      buttonEl.style.display =\n",
              "        google.colab.kernel.accessAllowed ? 'block' : 'none';\n",
              "\n",
              "      async function convertToInteractive(key) {\n",
              "        const element = document.querySelector('#df-e9dbb874-36f5-4e0e-b688-54165fde2369');\n",
              "        const dataTable =\n",
              "          await google.colab.kernel.invokeFunction('convertToInteractive',\n",
              "                                                    [key], {});\n",
              "        if (!dataTable) return;\n",
              "\n",
              "        const docLinkHtml = 'Like what you see? Visit the ' +\n",
              "          '<a target=\"_blank\" href=https://colab.research.google.com/notebooks/data_table.ipynb>data table notebook</a>'\n",
              "          + ' to learn more about interactive tables.';\n",
              "        element.innerHTML = '';\n",
              "        dataTable['output_type'] = 'display_data';\n",
              "        await google.colab.output.renderOutput(dataTable, element);\n",
              "        const docLink = document.createElement('div');\n",
              "        docLink.innerHTML = docLinkHtml;\n",
              "        element.appendChild(docLink);\n",
              "      }\n",
              "    </script>\n",
              "  </div>\n",
              "\n",
              "\n",
              "<div id=\"df-2491f97e-bab0-41c8-a0eb-4f162023124d\">\n",
              "  <button class=\"colab-df-quickchart\" onclick=\"quickchart('df-2491f97e-bab0-41c8-a0eb-4f162023124d')\"\n",
              "            title=\"Suggest charts.\"\n",
              "            style=\"display:none;\">\n",
              "\n",
              "<svg xmlns=\"http://www.w3.org/2000/svg\" height=\"24px\"viewBox=\"0 0 24 24\"\n",
              "     width=\"24px\">\n",
              "    <g>\n",
              "        <path d=\"M19 3H5c-1.1 0-2 .9-2 2v14c0 1.1.9 2 2 2h14c1.1 0 2-.9 2-2V5c0-1.1-.9-2-2-2zM9 17H7v-7h2v7zm4 0h-2V7h2v10zm4 0h-2v-4h2v4z\"/>\n",
              "    </g>\n",
              "</svg>\n",
              "  </button>\n",
              "\n",
              "<style>\n",
              "  .colab-df-quickchart {\n",
              "    background-color: #E8F0FE;\n",
              "    border: none;\n",
              "    border-radius: 50%;\n",
              "    cursor: pointer;\n",
              "    display: none;\n",
              "    fill: #1967D2;\n",
              "    height: 32px;\n",
              "    padding: 0 0 0 0;\n",
              "    width: 32px;\n",
              "  }\n",
              "\n",
              "  .colab-df-quickchart:hover {\n",
              "    background-color: #E2EBFA;\n",
              "    box-shadow: 0px 1px 2px rgba(60, 64, 67, 0.3), 0px 1px 3px 1px rgba(60, 64, 67, 0.15);\n",
              "    fill: #174EA6;\n",
              "  }\n",
              "\n",
              "  [theme=dark] .colab-df-quickchart {\n",
              "    background-color: #3B4455;\n",
              "    fill: #D2E3FC;\n",
              "  }\n",
              "\n",
              "  [theme=dark] .colab-df-quickchart:hover {\n",
              "    background-color: #434B5C;\n",
              "    box-shadow: 0px 1px 3px 1px rgba(0, 0, 0, 0.15);\n",
              "    filter: drop-shadow(0px 1px 2px rgba(0, 0, 0, 0.3));\n",
              "    fill: #FFFFFF;\n",
              "  }\n",
              "</style>\n",
              "\n",
              "  <script>\n",
              "    async function quickchart(key) {\n",
              "      const charts = await google.colab.kernel.invokeFunction(\n",
              "          'suggestCharts', [key], {});\n",
              "    }\n",
              "    (() => {\n",
              "      let quickchartButtonEl =\n",
              "        document.querySelector('#df-2491f97e-bab0-41c8-a0eb-4f162023124d button');\n",
              "      quickchartButtonEl.style.display =\n",
              "        google.colab.kernel.accessAllowed ? 'block' : 'none';\n",
              "    })();\n",
              "  </script>\n",
              "</div>\n",
              "    </div>\n",
              "  </div>\n"
            ]
          },
          "metadata": {},
          "execution_count": 61
        }
      ]
    },
    {
      "cell_type": "code",
      "source": [
        "lesion_data.drop_duplicates(['patient_id', 'lesion_id'], inplace=True)\n",
        "len(lesion_data)"
      ],
      "metadata": {
        "colab": {
          "base_uri": "https://localhost:8080/"
        },
        "id": "X6FRXSCq72z-",
        "outputId": "6752ca55-35be-4e03-d74c-8247bda434dd"
      },
      "execution_count": null,
      "outputs": [
        {
          "output_type": "stream",
          "name": "stderr",
          "text": [
            "<ipython-input-62-33b72bba6122>:1: SettingWithCopyWarning: \n",
            "A value is trying to be set on a copy of a slice from a DataFrame\n",
            "\n",
            "See the caveats in the documentation: https://pandas.pydata.org/pandas-docs/stable/user_guide/indexing.html#returning-a-view-versus-a-copy\n",
            "  lesion_data.drop_duplicates(['patient_id', 'lesion_id'], inplace=True)\n"
          ]
        },
        {
          "output_type": "execute_result",
          "data": {
            "text/plain": [
              "1246"
            ]
          },
          "metadata": {},
          "execution_count": 62
        }
      ]
    },
    {
      "cell_type": "markdown",
      "source": [
        "####Diagnosis - Confirmation - Benign/Malignant"
      ],
      "metadata": {
        "id": "fLyDd9PZ79aH"
      }
    },
    {
      "cell_type": "code",
      "source": [
        "fig, ax = plt.subplots(figsize=(20,10))\n",
        "ax = sns.barplot(x=data.diagnosis.value_counts().keys(), y=data.diagnosis.value_counts().values, data=data, palette='pastel')\n",
        "ax.set_title('Number of images per diagnosis')\n",
        "_ = ax.bar_label(ax.containers[0])"
      ],
      "metadata": {
        "colab": {
          "base_uri": "https://localhost:8080/",
          "height": 666
        },
        "id": "IQ5QfK6576EE",
        "outputId": "3e0e04df-b90e-4797-c3e3-8175b40dc328"
      },
      "execution_count": null,
      "outputs": [
        {
          "output_type": "display_data",
          "data": {
            "text/plain": [
              "<Figure size 2000x1000 with 1 Axes>"
            ],
            "image/png": "[encoded data removed]"
          },
          "metadata": {}
        }
      ]
    },
    {
      "cell_type": "code",
      "source": [
        "fig, ax = plt.subplots(figsize=(20,10))\n",
        "ax = sns.countplot(x='diagnosis', hue='image_type', data=data, palette=['#FBE8A1', '#FFDCF4'])\n",
        "ax.set_title('Number of dermoscopic and clinical images per diagnosis')\n",
        "_ = ax.bar_label(ax.containers[0])\n",
        "_ = ax.bar_label(ax.containers[1])"
      ],
      "metadata": {
        "colab": {
          "base_uri": "https://localhost:8080/",
          "height": 673
        },
        "id": "qem9eKi-8AW6",
        "outputId": "dc71684e-57f7-4af5-cc8e-f083143c0819"
      },
      "execution_count": null,
      "outputs": [
        {
          "output_type": "display_data",
          "data": {
            "text/plain": [
              "<Figure size 2000x1000 with 1 Axes>"
            ],
            "image/png": "[encoded data removed]"
          },
          "metadata": {}
        }
      ]
    },
    {
      "cell_type": "code",
      "source": [
        "fig, ax = plt.subplots(figsize=(20,10))\n",
        "ax = sns.barplot(x=data.benign_malignant.value_counts().keys(), y=data.benign_malignant.value_counts().values, data=data, palette='pastel')\n",
        "ax.set_title('Number of images of benign or malignant lesions')\n",
        "_ = ax.bar_label(ax.containers[0])\n",
        "print(f\"There are {data.benign_malignant.value_counts()['malignant']} malignant images which represent the {data.benign_malignant.value_counts()['malignant']/len(data)*100}% of the dataset\")"
      ],
      "metadata": {
        "colab": {
          "base_uri": "https://localhost:8080/",
          "height": 684
        },
        "id": "GtaIPThbyh_E",
        "outputId": "83875ef3-f35b-4c76-8d9d-48d226d4c57d"
      },
      "execution_count": null,
      "outputs": [
        {
          "output_type": "stream",
          "name": "stdout",
          "text": [
            "There are 751 malignant images which represent the 46.472772277227726% of the dataset\n"
          ]
        },
        {
          "output_type": "display_data",
          "data": {
            "text/plain": [
              "<Figure size 2000x1000 with 1 Axes>"
            ],
            "image/png": "[encoded data removed]"
          },
          "metadata": {}
        }
      ]
    },
    {
      "cell_type": "code",
      "source": [
        "fig, ax = plt.subplots(figsize=(20,10))\n",
        "ax = sns.barplot(x=lesion_data.diagnosis.value_counts().keys(), y=lesion_data.diagnosis.value_counts().values, data=lesion_data, palette='pastel')\n",
        "ax.set_title('Number of lesions per diagnosis')\n",
        "_=ax.bar_label(ax.containers[0])"
      ],
      "metadata": {
        "colab": {
          "base_uri": "https://localhost:8080/",
          "height": 666
        },
        "id": "7U2Dyzmo8GSA",
        "outputId": "776ad8cb-d040-40e4-ad4d-19f5761be837"
      },
      "execution_count": null,
      "outputs": [
        {
          "output_type": "display_data",
          "data": {
            "text/plain": [
              "<Figure size 2000x1000 with 1 Axes>"
            ],
            "image/png": "[encoded data removed]"
          },
          "metadata": {}
        }
      ]
    },
    {
      "cell_type": "code",
      "source": [
        "fig, ax = plt.subplots(figsize=(20,10))\n",
        "ax = sns.barplot(x=lesion_data.benign_malignant.value_counts().keys(), y=lesion_data.benign_malignant.value_counts().values, data=data, palette='pastel')\n",
        "ax.set_title('Number of benign and malignant lesions')\n",
        "_ = ax.bar_label(ax.containers[0])\n",
        "print(f\"There are {lesion_data.benign_malignant.value_counts()['malignant']} malignant lesions which represent the {lesion_data.benign_malignant.value_counts()['malignant']/len(lesion_data)*100}% of the dataset\")"
      ],
      "metadata": {
        "colab": {
          "base_uri": "https://localhost:8080/",
          "height": 684
        },
        "id": "6bpFIkS5y8mM",
        "outputId": "b275c237-c5dd-48c0-ebfd-29d5c85a7522"
      },
      "execution_count": null,
      "outputs": [
        {
          "output_type": "stream",
          "name": "stdout",
          "text": [
            "There are 498 malignant lesions which represent the 39.96789727126806% of the dataset\n"
          ]
        },
        {
          "output_type": "display_data",
          "data": {
            "text/plain": [
              "<Figure size 2000x1000 with 1 Axes>"
            ],
            "image/png": "[encoded data removed]"
          },
          "metadata": {}
        }
      ]
    },
    {
      "cell_type": "code",
      "source": [
        "fig, ax = plt.subplots(figsize=(20,10))\n",
        "lesion_data.diagnosis_confirm_type = lesion_data.diagnosis_confirm_type.replace('', 'single expert criteria')\n",
        "ax = sns.countplot(x='diagnosis', hue='diagnosis_confirm_type', data=lesion_data, palette=['#E1CEF9', '#D4F9CE', '#CEE5F9'])\n",
        "ax.set_title('Diagnosis confirmation type per lesion')\n",
        "for i,v in enumerate(lesion_data.diagnosis_confirm_type.unique()):\n",
        "  try:\n",
        "    _=ax.bar_label(ax.containers[i])\n",
        "  except:\n",
        "    continue"
      ],
      "metadata": {
        "colab": {
          "base_uri": "https://localhost:8080/",
          "height": 782
        },
        "id": "Cvanri-t8Gs-",
        "outputId": "04ad9289-912f-4c32-e0f9-63d53f99ba4b"
      },
      "execution_count": null,
      "outputs": [
        {
          "output_type": "stream",
          "name": "stderr",
          "text": [
            "<ipython-input-68-2a6f2c281448>:2: SettingWithCopyWarning: \n",
            "A value is trying to be set on a copy of a slice from a DataFrame.\n",
            "Try using .loc[row_indexer,col_indexer] = value instead\n",
            "\n",
            "See the caveats in the documentation: https://pandas.pydata.org/pandas-docs/stable/user_guide/indexing.html#returning-a-view-versus-a-copy\n",
            "  lesion_data.diagnosis_confirm_type = lesion_data.diagnosis_confirm_type.replace('', 'single expert criteria')\n"
          ]
        },
        {
          "output_type": "display_data",
          "data": {
            "text/plain": [
              "<Figure size 2000x1000 with 1 Axes>"
            ],
            "image/png": "[encoded data removed]"
          },
          "metadata": {}
        }
      ]
    },
    {
      "cell_type": "code",
      "source": [
        "for d in lesion_data.diagnosis.unique():\n",
        "  try:\n",
        "    aux = lesion_data[lesion_data.diagnosis==d]\n",
        "    lvc = aux.diagnosis_confirm_type.value_counts()\n",
        "    print(f'\\n{d} --> {len(aux)} lesions - {lvc[\"histopathology\"]} biopsy-proven lesions - {(lvc[\"histopathology\"]/len(aux))*100} % Histopathology Confirmation')\n",
        "  except Exception as e:\n",
        "    print(f'\\nFor lesion {d}, there is no confirmation by {e}')"
      ],
      "metadata": {
        "colab": {
          "base_uri": "https://localhost:8080/"
        },
        "id": "Fk3Pa1vd8JIh",
        "outputId": "a2e7d173-3e89-4287-a696-2a3e0c2b1547"
      },
      "execution_count": null,
      "outputs": [
        {
          "output_type": "stream",
          "name": "stdout",
          "text": [
            "\n",
            "melanoma --> 172 lesions - 172 biopsy-proven lesions - 100.0 % Histopathology Confirmation\n",
            "\n",
            "seborrheic keratosis --> 48 lesions - 21 biopsy-proven lesions - 43.75 % Histopathology Confirmation\n",
            "\n",
            "nevus --> 556 lesions - 154 biopsy-proven lesions - 27.697841726618705 % Histopathology Confirmation\n",
            "\n",
            "actinic keratosis --> 44 lesions - 24 biopsy-proven lesions - 54.54545454545454 % Histopathology Confirmation\n",
            "\n",
            "basal cell carcinoma --> 235 lesions - 235 biopsy-proven lesions - 100.0 % Histopathology Confirmation\n",
            "\n",
            "solar lentigo --> 15 lesions - 6 biopsy-proven lesions - 40.0 % Histopathology Confirmation\n",
            "\n",
            "squamous cell carcinoma --> 91 lesions - 91 biopsy-proven lesions - 100.0 % Histopathology Confirmation\n",
            "\n",
            "dermatofibroma --> 41 lesions - 13 biopsy-proven lesions - 31.70731707317073 % Histopathology Confirmation\n",
            "\n",
            "vascular lesion --> 43 lesions - 9 biopsy-proven lesions - 20.930232558139537 % Histopathology Confirmation\n",
            "\n",
            "For lesion lichenoid keratosis, there is no confirmation by 'histopathology'\n"
          ]
        }
      ]
    },
    {
      "cell_type": "code",
      "source": [
        "print(f'\\nTotal Histopathology Confirmation: {lesion_data.diagnosis_confirm_type.value_counts()[\"histopathology\"]} lesions ({(lesion_data.diagnosis_confirm_type.value_counts()[\"histopathology\"]/len(lesion_data))*100} %)')"
      ],
      "metadata": {
        "colab": {
          "base_uri": "https://localhost:8080/"
        },
        "id": "6ZqbsdGyyGDL",
        "outputId": "dc526f82-c23a-4804-9100-fbf79f3dd24d"
      },
      "execution_count": null,
      "outputs": [
        {
          "output_type": "stream",
          "name": "stdout",
          "text": [
            "\n",
            "Total Histopathology Confirmation: 725 lesions (58.18619582664526 %)\n"
          ]
        }
      ]
    },
    {
      "cell_type": "code",
      "source": [
        "print(f'\\nTotal Histopathology Confirmation: {data.diagnosis_confirm_type.value_counts()[\"histopathology\"]} images ({(data.diagnosis_confirm_type.value_counts()[\"histopathology\"]/len(data))*100} %)')"
      ],
      "metadata": {
        "colab": {
          "base_uri": "https://localhost:8080/"
        },
        "id": "D7k_UJoCSS32",
        "outputId": "bcad9a3d-f79f-4b9f-8e80-1c85345992be"
      },
      "execution_count": null,
      "outputs": [
        {
          "output_type": "stream",
          "name": "stdout",
          "text": [
            "\n",
            "Total Histopathology Confirmation: 1036 images (64.10891089108911 %)\n"
          ]
        }
      ]
    },
    {
      "cell_type": "markdown",
      "source": [
        "####General Anatomical Site"
      ],
      "metadata": {
        "id": "zJOOVSFp8P-p"
      }
    },
    {
      "cell_type": "code",
      "source": [
        "lesion_data.anatom_site_general = lesion_data.anatom_site_general.replace('', np.nan)\n",
        "lesion_data.anatom_site_general.value_counts(dropna=False)"
      ],
      "metadata": {
        "colab": {
          "base_uri": "https://localhost:8080/"
        },
        "id": "w1LOIprr8PSj",
        "outputId": "01e156d7-0ac1-4ddf-d25a-4d42362b4f6e"
      },
      "execution_count": null,
      "outputs": [
        {
          "output_type": "stream",
          "name": "stderr",
          "text": [
            "<ipython-input-72-0b5b68988fea>:1: SettingWithCopyWarning: \n",
            "A value is trying to be set on a copy of a slice from a DataFrame.\n",
            "Try using .loc[row_indexer,col_indexer] = value instead\n",
            "\n",
            "See the caveats in the documentation: https://pandas.pydata.org/pandas-docs/stable/user_guide/indexing.html#returning-a-view-versus-a-copy\n",
            "  lesion_data.anatom_site_general = lesion_data.anatom_site_general.replace('', np.nan)\n"
          ]
        },
        {
          "output_type": "execute_result",
          "data": {
            "text/plain": [
              "head/neck          281\n",
              "posterior torso    260\n",
              "lower extremity    233\n",
              "anterior torso     210\n",
              "upper extremity    130\n",
              "NaN                100\n",
              "palms/soles         17\n",
              "lateral torso        9\n",
              "oral/genital         6\n",
              "Name: anatom_site_general, dtype: int64"
            ]
          },
          "metadata": {},
          "execution_count": 72
        }
      ]
    },
    {
      "cell_type": "code",
      "source": [
        "fig, ax = plt.subplots(figsize=(20,10))\n",
        "ax = sns.countplot(x='diagnosis', hue='anatom_site_general', data=lesion_data, palette='pastel')\n",
        "for i,v in enumerate(lesion_data.anatom_site_general.unique()):\n",
        "  try:\n",
        "    ax.bar_label(ax.containers[i])\n",
        "  except:\n",
        "    continue"
      ],
      "metadata": {
        "colab": {
          "base_uri": "https://localhost:8080/",
          "height": 656
        },
        "id": "9Sgrek_t8ZZL",
        "outputId": "e8a48a64-0ecb-4d06-f986-d5b497ab10f8"
      },
      "execution_count": null,
      "outputs": [
        {
          "output_type": "display_data",
          "data": {
            "text/plain": [
              "<Figure size 2000x1000 with 1 Axes>"
            ],
            "image/png": "[encoded data removed]"
          },
          "metadata": {}
        }
      ]
    },
    {
      "cell_type": "code",
      "source": [],
      "metadata": {
        "id": "akz5cYVXV-kU"
      },
      "execution_count": null,
      "outputs": []
    }
  ]
}